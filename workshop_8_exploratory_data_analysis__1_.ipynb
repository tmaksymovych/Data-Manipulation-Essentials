{
 "cells": [
  {
   "cell_type": "markdown",
   "id": "0d15d206-af92-41f5-87ce-49ff14031a15",
   "metadata": {},
   "source": [
    "# Воркшоп №8. Очистка даних, розвідувальний аналіз"
   ]
  },
  {
   "cell_type": "markdown",
   "id": "c966bf59-84ee-41ad-9b10-9aa7d7ba263b",
   "metadata": {},
   "source": [
    "Цей воркшоп виконує..."
   ]
  },
  {
   "cell_type": "raw",
   "id": "616878c2-000f-4f42-a359-69aa3a2fe578",
   "metadata": {
    "vscode": {
     "languageId": "raw"
    }
   },
   "source": [
    "Максимович тимур"
   ]
  },
  {
   "cell_type": "raw",
   "id": "058e537d",
   "metadata": {
    "vscode": {
     "languageId": "raw"
    }
   },
   "source": [
    "\n"
   ]
  },
  {
   "cell_type": "raw",
   "id": "ac210a67",
   "metadata": {},
   "source": []
  },
  {
   "cell_type": "markdown",
   "id": "613cfc10-0252-41b7-bce5-4dbcc4e22367",
   "metadata": {},
   "source": [
    "Перш за все, зчитаємо вміст файлу `data_flatfy_2019.csv`.\n",
    "\n",
    "Кілька дисклеймерів:\n",
    "- Цей датасет - реальні дані з сайту [Flatfy](https://flatfy.ua/) за осінь 2019 року\n",
    "- Flatfy - агрегатор оголошень з сотень веб-порталів нерухомості. Тому, по-перше, **не всі дані коректні**, а по-друге, у стовпчику `geo` можете побачити велику кількість рядків російською. На жаль, у 2019 році статус кво був саме таким.\n",
    "- Актуальні курси валют на момент публікації даних: Долар США - 24.81, Євро - 27.62.\n"
   ]
  },
  {
   "cell_type": "code",
   "execution_count": 111,
   "id": "61868d1e-8c4c-4d99-9d61-3e4cbca92d61",
   "metadata": {},
   "outputs": [],
   "source": [
    "import numpy as np\n",
    "import pandas as pd\n",
    "import matplotlib.pyplot as plt\n",
    "import altair as alt"
   ]
  },
  {
   "cell_type": "code",
   "execution_count": 127,
   "id": "66715a69-15ff-4003-b8e9-b92cbd8c5222",
   "metadata": {},
   "outputs": [],
   "source": [
    "df = pd.read_csv(\"data_flatfy_2019.csv\", sep=\",\")"
   ]
  },
  {
   "cell_type": "code",
   "execution_count": 128,
   "id": "d6d5ac5d",
   "metadata": {},
   "outputs": [
    {
     "data": {
      "application/vnd.microsoft.datawrangler.viewer.v0+json": {
       "columns": [
        {
         "name": "index",
         "rawType": "object",
         "type": "string"
        },
        {
         "name": "Unnamed: 0",
         "rawType": "float64",
         "type": "float"
        },
        {
         "name": "price",
         "rawType": "float64",
         "type": "float"
        },
        {
         "name": "room_count",
         "rawType": "float64",
         "type": "float"
        },
        {
         "name": "floor_count",
         "rawType": "float64",
         "type": "float"
        },
        {
         "name": "floor",
         "rawType": "float64",
         "type": "float"
        },
        {
         "name": "area_total",
         "rawType": "float64",
         "type": "float"
        },
        {
         "name": "area_kitchen",
         "rawType": "float64",
         "type": "float"
        },
        {
         "name": "area_living",
         "rawType": "float64",
         "type": "float"
        },
        {
         "name": "ceiling_height",
         "rawType": "float64",
         "type": "float"
        }
       ],
       "ref": "3d41d752-012b-42c7-963b-888306a63be4",
       "rows": [
        [
         "count",
         "1429891.0",
         "1429891.0",
         "1228421.0",
         "907008.0",
         "824366.0",
         "1297139.0",
         "652257.0",
         "607590.0",
         "31962.0"
        ],
        [
         "mean",
         "714945.0",
         "471096.5110347572",
         "2.336602028132049",
         "10.084085256138865",
         "6.126483867602497",
         "15656.535404100892",
         "1015.425812494155",
         "1108.5457166016563",
         "4.184262874663666"
        ],
        [
         "std",
         "412774.1212184536",
         "319991332.1866374",
         "1.3530707107932898",
         "7.942467712018212",
         "5.48941698647217",
         "10284688.957095008",
         "791949.7174583183",
         "820459.7957850358",
         "58.355460769683795"
        ],
        [
         "min",
         "0.0",
         "1.0",
         "1.0",
         "1.0",
         "1.0",
         "0.04",
         "0.06",
         "0.01",
         "0.01"
        ],
        [
         "25%",
         "357472.5",
         "12500.0",
         "1.0",
         "4.0",
         "2.0",
         "44.0",
         "8.0",
         "20.0",
         "2.7"
        ],
        [
         "50%",
         "714945.0",
         "32500.0",
         "2.0",
         "9.0",
         "4.0",
         "60.0",
         "11.0",
         "35.0",
         "2.8"
        ],
        [
         "75%",
         "1072417.5",
         "70000.0",
         "3.0",
         "16.0",
         "8.0",
         "90.0",
         "15.8",
         "50.0",
         "3.0"
        ],
        [
         "max",
         "1429890.0",
         "380968671312.0",
         "20.0",
         "126.0",
         "123.0",
         "9999999999.0",
         "639497658.0",
         "639497658.0",
         "3200.0"
        ]
       ],
       "shape": {
        "columns": 9,
        "rows": 8
       }
      },
      "text/html": [
       "<div>\n",
       "<style scoped>\n",
       "    .dataframe tbody tr th:only-of-type {\n",
       "        vertical-align: middle;\n",
       "    }\n",
       "\n",
       "    .dataframe tbody tr th {\n",
       "        vertical-align: top;\n",
       "    }\n",
       "\n",
       "    .dataframe thead th {\n",
       "        text-align: right;\n",
       "    }\n",
       "</style>\n",
       "<table border=\"1\" class=\"dataframe\">\n",
       "  <thead>\n",
       "    <tr style=\"text-align: right;\">\n",
       "      <th></th>\n",
       "      <th>Unnamed: 0</th>\n",
       "      <th>price</th>\n",
       "      <th>room_count</th>\n",
       "      <th>floor_count</th>\n",
       "      <th>floor</th>\n",
       "      <th>area_total</th>\n",
       "      <th>area_kitchen</th>\n",
       "      <th>area_living</th>\n",
       "      <th>ceiling_height</th>\n",
       "    </tr>\n",
       "  </thead>\n",
       "  <tbody>\n",
       "    <tr>\n",
       "      <th>count</th>\n",
       "      <td>1.429891e+06</td>\n",
       "      <td>1.429891e+06</td>\n",
       "      <td>1.228421e+06</td>\n",
       "      <td>907008.000000</td>\n",
       "      <td>824366.000000</td>\n",
       "      <td>1.297139e+06</td>\n",
       "      <td>6.522570e+05</td>\n",
       "      <td>6.075900e+05</td>\n",
       "      <td>31962.000000</td>\n",
       "    </tr>\n",
       "    <tr>\n",
       "      <th>mean</th>\n",
       "      <td>7.149450e+05</td>\n",
       "      <td>4.710965e+05</td>\n",
       "      <td>2.336602e+00</td>\n",
       "      <td>10.084085</td>\n",
       "      <td>6.126484</td>\n",
       "      <td>1.565654e+04</td>\n",
       "      <td>1.015426e+03</td>\n",
       "      <td>1.108546e+03</td>\n",
       "      <td>4.184263</td>\n",
       "    </tr>\n",
       "    <tr>\n",
       "      <th>std</th>\n",
       "      <td>4.127741e+05</td>\n",
       "      <td>3.199913e+08</td>\n",
       "      <td>1.353071e+00</td>\n",
       "      <td>7.942468</td>\n",
       "      <td>5.489417</td>\n",
       "      <td>1.028469e+07</td>\n",
       "      <td>7.919497e+05</td>\n",
       "      <td>8.204598e+05</td>\n",
       "      <td>58.355461</td>\n",
       "    </tr>\n",
       "    <tr>\n",
       "      <th>min</th>\n",
       "      <td>0.000000e+00</td>\n",
       "      <td>1.000000e+00</td>\n",
       "      <td>1.000000e+00</td>\n",
       "      <td>1.000000</td>\n",
       "      <td>1.000000</td>\n",
       "      <td>4.000000e-02</td>\n",
       "      <td>6.000000e-02</td>\n",
       "      <td>1.000000e-02</td>\n",
       "      <td>0.010000</td>\n",
       "    </tr>\n",
       "    <tr>\n",
       "      <th>25%</th>\n",
       "      <td>3.574725e+05</td>\n",
       "      <td>1.250000e+04</td>\n",
       "      <td>1.000000e+00</td>\n",
       "      <td>4.000000</td>\n",
       "      <td>2.000000</td>\n",
       "      <td>4.400000e+01</td>\n",
       "      <td>8.000000e+00</td>\n",
       "      <td>2.000000e+01</td>\n",
       "      <td>2.700000</td>\n",
       "    </tr>\n",
       "    <tr>\n",
       "      <th>50%</th>\n",
       "      <td>7.149450e+05</td>\n",
       "      <td>3.250000e+04</td>\n",
       "      <td>2.000000e+00</td>\n",
       "      <td>9.000000</td>\n",
       "      <td>4.000000</td>\n",
       "      <td>6.000000e+01</td>\n",
       "      <td>1.100000e+01</td>\n",
       "      <td>3.500000e+01</td>\n",
       "      <td>2.800000</td>\n",
       "    </tr>\n",
       "    <tr>\n",
       "      <th>75%</th>\n",
       "      <td>1.072418e+06</td>\n",
       "      <td>7.000000e+04</td>\n",
       "      <td>3.000000e+00</td>\n",
       "      <td>16.000000</td>\n",
       "      <td>8.000000</td>\n",
       "      <td>9.000000e+01</td>\n",
       "      <td>1.580000e+01</td>\n",
       "      <td>5.000000e+01</td>\n",
       "      <td>3.000000</td>\n",
       "    </tr>\n",
       "    <tr>\n",
       "      <th>max</th>\n",
       "      <td>1.429890e+06</td>\n",
       "      <td>3.809687e+11</td>\n",
       "      <td>2.000000e+01</td>\n",
       "      <td>126.000000</td>\n",
       "      <td>123.000000</td>\n",
       "      <td>1.000000e+10</td>\n",
       "      <td>6.394977e+08</td>\n",
       "      <td>6.394977e+08</td>\n",
       "      <td>3200.000000</td>\n",
       "    </tr>\n",
       "  </tbody>\n",
       "</table>\n",
       "</div>"
      ],
      "text/plain": [
       "         Unnamed: 0         price    room_count    floor_count          floor  \\\n",
       "count  1.429891e+06  1.429891e+06  1.228421e+06  907008.000000  824366.000000   \n",
       "mean   7.149450e+05  4.710965e+05  2.336602e+00      10.084085       6.126484   \n",
       "std    4.127741e+05  3.199913e+08  1.353071e+00       7.942468       5.489417   \n",
       "min    0.000000e+00  1.000000e+00  1.000000e+00       1.000000       1.000000   \n",
       "25%    3.574725e+05  1.250000e+04  1.000000e+00       4.000000       2.000000   \n",
       "50%    7.149450e+05  3.250000e+04  2.000000e+00       9.000000       4.000000   \n",
       "75%    1.072418e+06  7.000000e+04  3.000000e+00      16.000000       8.000000   \n",
       "max    1.429890e+06  3.809687e+11  2.000000e+01     126.000000     123.000000   \n",
       "\n",
       "         area_total  area_kitchen   area_living  ceiling_height  \n",
       "count  1.297139e+06  6.522570e+05  6.075900e+05    31962.000000  \n",
       "mean   1.565654e+04  1.015426e+03  1.108546e+03        4.184263  \n",
       "std    1.028469e+07  7.919497e+05  8.204598e+05       58.355461  \n",
       "min    4.000000e-02  6.000000e-02  1.000000e-02        0.010000  \n",
       "25%    4.400000e+01  8.000000e+00  2.000000e+01        2.700000  \n",
       "50%    6.000000e+01  1.100000e+01  3.500000e+01        2.800000  \n",
       "75%    9.000000e+01  1.580000e+01  5.000000e+01        3.000000  \n",
       "max    1.000000e+10  6.394977e+08  6.394977e+08     3200.000000  "
      ]
     },
     "execution_count": 128,
     "metadata": {},
     "output_type": "execute_result"
    }
   ],
   "source": [
    "df.describe()"
   ]
  },
  {
   "cell_type": "markdown",
   "id": "08f23f81-4098-46f2-a307-cebc9ef03c56",
   "metadata": {},
   "source": [
    "Погляньте, скільки категорій! Тут і продаж квартир, і оренда комерційної нерухомості, і ще купа різного. Аналізувати такий великий датасет складнувато, тож давайте сконцентруємось на **продажі квартир**. Обовʼязково переконайтетсь, що ви виділили усе, що треба! "
   ]
  },
  {
   "cell_type": "code",
   "execution_count": 131,
   "id": "e034599e-a4d7-412a-a0d0-6064cd819148",
   "metadata": {},
   "outputs": [],
   "source": [
    "df_flats = df[\n",
    "\tdf['section'].str.contains('квартира', na=False) &\n",
    "\tdf['section'].str.contains('продаж|продажа', na=False)\n",
    "]"
   ]
  },
  {
   "cell_type": "markdown",
   "id": "69cff947-48d3-4af9-9911-fa03505ba3ce",
   "metadata": {},
   "source": [
    "Спершу розберемося з ціною. Створіть новий стовпчик з ціною нерухомості в **гривнях**."
   ]
  },
  {
   "cell_type": "code",
   "execution_count": 132,
   "id": "2e0a5759-def2-4a7d-8f0d-f720fc801de6",
   "metadata": {},
   "outputs": [],
   "source": [
    "rate = {\n",
    "    \"USD\" : 24.81,\n",
    "    \"EUR\" : 27.62,\n",
    "    \"UAH\" : 1.0,\n",
    "}\n",
    "df_flats = df_flats.copy()\n",
    "df_flats[\"price_UAH\"] = df_flats.apply(lambda x: x[\"price\"] * rate[x[\"currency\"]], axis=1)"
   ]
  },
  {
   "cell_type": "markdown",
   "id": "20688dde-68a4-4e58-a5d6-3fb1bf17ea14",
   "metadata": {},
   "source": [
    "Прекрасно, з цим вже можна працювати! \n",
    "\n",
    "Спробуйте провести розвідувальний аналіз у кілька етапів:\n",
    "- Прогляньте базові статистичні дані (середнє, квантилі etc.) по різних характеристиках\n",
    "- Погляньте на можливі значення `room_count`, за потреби відсійте те, що не дуже має сенс аналізувати :)\n",
    "- Викиньте дані, які __очевидно__ заповнено неправильно. Окрім того, застосуйте IQR-метод (k=1.5 або близький до цього, який вам подобається) для фільтрації неадекватних даних по площі.\n",
    "- Проаналізуйте, чи є сенс використовувати IQR-метод для цін. Застосуйте його, якщо це має сенс.\n",
    "- Використайте \"ящики з вусами\" та гістограми, щоб виділити факти про:\n",
    "  - Взаємозалежність між площею та кількістю кімнат\n",
    "  - Взаємозалежність між площею кухні та кількістю кімнат. Тут є цікавий момент, чи можете ви його побачити і зробити гіпотезу, чому так?\n",
    "  - Розподіл вартості житла в залежності від кількості кімнат"
   ]
  },
  {
   "cell_type": "code",
   "execution_count": 133,
   "id": "8c630ad5-32b1-4895-b6a6-106f8c762384",
   "metadata": {},
   "outputs": [
    {
     "data": {
      "application/vnd.microsoft.datawrangler.viewer.v0+json": {
       "columns": [
        {
         "name": "room_count",
         "rawType": "float64",
         "type": "float"
        },
        {
         "name": "count",
         "rawType": "int64",
         "type": "integer"
        }
       ],
       "ref": "71733223-2c42-435c-81fd-d0b8e2b309ad",
       "rows": [
        [
         "2.0",
         "243057"
        ],
        [
         "1.0",
         "234241"
        ],
        [
         "3.0",
         "199659"
        ],
        [
         "4.0",
         "42826"
        ],
        [
         "5.0",
         "8736"
        ],
        [
         "6.0",
         "1901"
        ],
        [
         "7.0",
         "560"
        ],
        [
         "8.0",
         "208"
        ],
        [
         "10.0",
         "165"
        ],
        [
         "9.0",
         "125"
        ],
        [
         "12.0",
         "23"
        ],
        [
         "11.0",
         "13"
        ],
        [
         "17.0",
         "10"
        ],
        [
         "15.0",
         "8"
        ],
        [
         "16.0",
         "4"
        ],
        [
         "20.0",
         "3"
        ],
        [
         "13.0",
         "3"
        ],
        [
         "14.0",
         "3"
        ],
        [
         "18.0",
         "1"
        ]
       ],
       "shape": {
        "columns": 1,
        "rows": 19
       }
      },
      "text/plain": [
       "room_count\n",
       "2.0     243057\n",
       "1.0     234241\n",
       "3.0     199659\n",
       "4.0      42826\n",
       "5.0       8736\n",
       "6.0       1901\n",
       "7.0        560\n",
       "8.0        208\n",
       "10.0       165\n",
       "9.0        125\n",
       "12.0        23\n",
       "11.0        13\n",
       "17.0        10\n",
       "15.0         8\n",
       "16.0         4\n",
       "20.0         3\n",
       "13.0         3\n",
       "14.0         3\n",
       "18.0         1\n",
       "Name: count, dtype: int64"
      ]
     },
     "execution_count": 133,
     "metadata": {},
     "output_type": "execute_result"
    }
   ],
   "source": [
    "df_flats[\"room_count\"].value_counts()"
   ]
  },
  {
   "cell_type": "code",
   "execution_count": 134,
   "id": "aba23f01-2f34-45f9-83b7-65bdf33644cd",
   "metadata": {},
   "outputs": [],
   "source": [
    "df_flats = df_flats[df_flats[\"room_count\"] < 12]"
   ]
  },
  {
   "cell_type": "code",
   "execution_count": 135,
   "id": "2fff3da9",
   "metadata": {},
   "outputs": [
    {
     "data": {
      "text/plain": [
       "DataTransformerRegistry.enable('vegafusion')"
      ]
     },
     "execution_count": 135,
     "metadata": {},
     "output_type": "execute_result"
    }
   ],
   "source": [
    "alt.data_transformers.enable(\"vegafusion\")"
   ]
  },
  {
   "cell_type": "code",
   "execution_count": 136,
   "id": "82a24f8f-8a44-425f-8e1f-794e76ff98f1",
   "metadata": {},
   "outputs": [
    {
     "data": {
      "text/html": [
       "\n",
       "<style>\n",
       "  #altair-viz-e5790c8062f84f07be302070d26ee673.vega-embed {\n",
       "    width: 100%;\n",
       "    display: flex;\n",
       "  }\n",
       "\n",
       "  #altair-viz-e5790c8062f84f07be302070d26ee673.vega-embed details,\n",
       "  #altair-viz-e5790c8062f84f07be302070d26ee673.vega-embed details summary {\n",
       "    position: relative;\n",
       "  }\n",
       "</style>\n",
       "<div id=\"altair-viz-e5790c8062f84f07be302070d26ee673\"></div>\n",
       "<script type=\"text/javascript\">\n",
       "  var VEGA_DEBUG = (typeof VEGA_DEBUG == \"undefined\") ? {} : VEGA_DEBUG;\n",
       "  (function(spec, embedOpt){\n",
       "    let outputDiv = document.currentScript.previousElementSibling;\n",
       "    if (outputDiv.id !== \"altair-viz-e5790c8062f84f07be302070d26ee673\") {\n",
       "      outputDiv = document.getElementById(\"altair-viz-e5790c8062f84f07be302070d26ee673\");\n",
       "    }\n",
       "\n",
       "    const paths = {\n",
       "      \"vega\": \"https://cdn.jsdelivr.net/npm/vega@5?noext\",\n",
       "      \"vega-lib\": \"https://cdn.jsdelivr.net/npm/vega-lib?noext\",\n",
       "      \"vega-lite\": \"https://cdn.jsdelivr.net/npm/vega-lite@5.20.1?noext\",\n",
       "      \"vega-embed\": \"https://cdn.jsdelivr.net/npm/vega-embed@6?noext\",\n",
       "    };\n",
       "\n",
       "    function maybeLoadScript(lib, version) {\n",
       "      var key = `${lib.replace(\"-\", \"\")}_version`;\n",
       "      return (VEGA_DEBUG[key] == version) ?\n",
       "        Promise.resolve(paths[lib]) :\n",
       "        new Promise(function(resolve, reject) {\n",
       "          var s = document.createElement('script');\n",
       "          document.getElementsByTagName(\"head\")[0].appendChild(s);\n",
       "          s.async = true;\n",
       "          s.onload = () => {\n",
       "            VEGA_DEBUG[key] = version;\n",
       "            return resolve(paths[lib]);\n",
       "          };\n",
       "          s.onerror = () => reject(`Error loading script: ${paths[lib]}`);\n",
       "          s.src = paths[lib];\n",
       "        });\n",
       "    }\n",
       "\n",
       "    function showError(err) {\n",
       "      outputDiv.innerHTML = `<div class=\"error\" style=\"color:red;\">${err}</div>`;\n",
       "      throw err;\n",
       "    }\n",
       "\n",
       "    function displayChart(vegaEmbed) {\n",
       "      vegaEmbed(outputDiv, spec, embedOpt)\n",
       "        .catch(err => showError(`Javascript Error: ${err.message}<br>This usually means there's a typo in your chart specification. See the javascript console for the full traceback.`));\n",
       "    }\n",
       "\n",
       "    if(typeof define === \"function\" && define.amd) {\n",
       "      requirejs.config({paths});\n",
       "      let deps = [\"vega-embed\"];\n",
       "      require(deps, displayChart, err => showError(`Error loading script: ${err.message}`));\n",
       "    } else {\n",
       "      maybeLoadScript(\"vega\", \"5\")\n",
       "        .then(() => maybeLoadScript(\"vega-lite\", \"5.20.1\"))\n",
       "        .then(() => maybeLoadScript(\"vega-embed\", \"6\"))\n",
       "        .catch(showError)\n",
       "        .then(() => displayChart(vegaEmbed));\n",
       "    }\n",
       "  })({\"$schema\": \"https://vega.github.io/schema/vega/v5.json\", \"data\": [{\"name\": \"param_6_store\"}, {\"name\": \"source_0\", \"values\": [{\"__count\": 80292, \"floor_count\": 5.0}, {\"__count\": 51420, \"floor_count\": 10.0}, {\"__count\": 4362, \"floor_count\": 21.0}, {\"__count\": 9686, \"floor_count\": 6.0}, {\"__count\": 11479, \"floor_count\": 17.0}, {\"__count\": 19941, \"floor_count\": 4.0}, {\"__count\": 91547, \"floor_count\": 9.0}, {\"__count\": 34944, \"floor_count\": 16.0}, {\"__count\": 6577, \"floor_count\": 19.0}, {\"__count\": 9897, \"floor_count\": 14.0}, {\"__count\": 15610, \"floor_count\": 12.0}, {\"__count\": 6711, \"floor_count\": 7.0}, {\"__count\": 15169, \"floor_count\": 3.0}, {\"__count\": 11792, \"floor_count\": 26.0}, {\"__count\": 5363, \"floor_count\": 8.0}, {\"__count\": 8637, \"floor_count\": 23.0}, {\"__count\": 5867, \"floor_count\": 15.0}, {\"__count\": 34770, \"floor_count\": 25.0}, {\"__count\": 10089, \"floor_count\": 18.0}, {\"__count\": 1040, \"floor_count\": 28.0}, {\"__count\": 8371, \"floor_count\": 11.0}, {\"__count\": 3279, \"floor_count\": 13.0}, {\"__count\": 8054, \"floor_count\": 22.0}, {\"__count\": 24935, \"floor_count\": 24.0}, {\"__count\": 1645, \"floor_count\": 33.0}, {\"__count\": 674, \"floor_count\": 36.0}, {\"__count\": 5430, \"floor_count\": 20.0}, {\"__count\": 1406, \"floor_count\": 30.0}, {\"__count\": 460, \"floor_count\": 31.0}, {\"__count\": 1915, \"floor_count\": 27.0}, {\"__count\": 15501, \"floor_count\": 2.0}, {\"__count\": 1064, \"floor_count\": 34.0}, {\"__count\": 199, \"floor_count\": 29.0}, {\"__count\": 4862, \"floor_count\": 1.0}, {\"__count\": 595, \"floor_count\": 32.0}, {\"__count\": 2, \"floor_count\": 44.0}, {\"__count\": 11, \"floor_count\": 39.0}, {\"__count\": 1, \"floor_count\": 126.0}, {\"__count\": 219, \"floor_count\": 35.0}, {\"__count\": 26, \"floor_count\": 40.0}, {\"__count\": 58, \"floor_count\": 46.0}, {\"__count\": 18, \"floor_count\": 37.0}, {\"__count\": 30, \"floor_count\": 45.0}, {\"__count\": 1, \"floor_count\": 58.0}, {\"__count\": 6, \"floor_count\": 50.0}, {\"__count\": 16, \"floor_count\": 47.0}, {\"__count\": 32, \"floor_count\": 38.0}, {\"__count\": 1, \"floor_count\": 43.0}, {\"__count\": 1, \"floor_count\": 125.0}, {\"__count\": 1, \"floor_count\": 87.0}, {\"__count\": 1, \"floor_count\": 71.0}, {\"__count\": 1, \"floor_count\": 54.0}, {\"__count\": 1, \"floor_count\": 72.0}, {\"__count\": 3, \"floor_count\": 41.0}, {\"__count\": 1, \"floor_count\": 60.0}, {\"__count\": 1, \"floor_count\": 52.0}, {\"__count\": 1, \"floor_count\": 63.0}, {\"__count\": 4, \"floor_count\": 42.0}, {\"__count\": 1, \"floor_count\": 109.0}, {\"__count\": 1, \"floor_count\": 94.0}, {\"__count\": 1, \"floor_count\": 48.0}, {\"__count\": 1, \"floor_count\": 55.0}]}, {\"name\": \"source_0_x_domain_floor_count\", \"values\": [{\"min\": 1.0, \"max\": 126.0}]}, {\"name\": \"source_0_y_domain___count\", \"values\": [{\"min\": 1, \"max\": 91547}]}], \"signals\": [{\"name\": \"unit\", \"value\": {}, \"on\": [{\"events\": \"pointermove\", \"update\": \"isTuple(group()) ? group() : unit\"}]}, {\"name\": \"param_6\", \"update\": \"vlSelectionResolve(\\\"param_6_store\\\", \\\"union\\\")\"}, {\"name\": \"param_6_floor_count\", \"on\": [{\"events\": [{\"source\": \"view\", \"type\": \"dblclick\"}], \"update\": \"null\"}, {\"events\": {\"signal\": \"param_6_translate_delta\"}, \"update\": \"panLinear(param_6_translate_anchor.extent_x, -param_6_translate_delta.x / width)\"}, {\"events\": {\"signal\": \"param_6_zoom_delta\"}, \"update\": \"zoomLinear(domain(\\\"x\\\"), param_6_zoom_anchor.x, param_6_zoom_delta)\"}]}, {\"name\": \"param_6_tuple\", \"on\": [{\"events\": [{\"signal\": \"param_6_floor_count\"}], \"update\": \"param_6_floor_count ? {unit: \\\"\\\", fields: param_6_tuple_fields, values: [param_6_floor_count]} : null\"}]}, {\"name\": \"param_6_tuple_fields\", \"value\": [{\"field\": \"floor_count\", \"channel\": \"x\", \"type\": \"R\"}]}, {\"name\": \"param_6_translate_anchor\", \"value\": {}, \"on\": [{\"events\": [{\"source\": \"scope\", \"type\": \"pointerdown\"}], \"update\": \"{x: x(unit), y: y(unit), extent_x: domain(\\\"x\\\")}\"}]}, {\"name\": \"param_6_translate_delta\", \"value\": {}, \"on\": [{\"events\": [{\"source\": \"window\", \"between\": [{\"source\": \"scope\", \"type\": \"pointerdown\"}, {\"source\": \"window\", \"type\": \"pointerup\"}], \"consume\": true, \"type\": \"pointermove\"}], \"update\": \"{x: param_6_translate_anchor.x - x(unit), y: param_6_translate_anchor.y - y(unit)}\"}]}, {\"name\": \"param_6_zoom_anchor\", \"on\": [{\"events\": [{\"source\": \"scope\", \"type\": \"wheel\", \"consume\": true}], \"update\": \"{x: invert(\\\"x\\\", x(unit)), y: invert(\\\"y\\\", y(unit))}\"}]}, {\"name\": \"param_6_zoom_delta\", \"on\": [{\"events\": [{\"source\": \"scope\", \"type\": \"wheel\", \"consume\": true}], \"update\": \"pow(1.001, event.deltaY * pow(16, event.deltaMode))\", \"force\": true}]}, {\"name\": \"param_6_modify\", \"on\": [{\"events\": {\"signal\": \"param_6_tuple\"}, \"update\": \"modify(\\\"param_6_store\\\", param_6_tuple, true)\"}]}], \"marks\": [{\"type\": \"rect\", \"name\": \"marks\", \"from\": {\"data\": \"source_0\"}, \"encode\": {\"update\": {\"width\": {\"value\": 5}, \"y2\": {\"value\": 0, \"scale\": \"y\"}, \"xc\": {\"field\": \"floor_count\", \"scale\": \"x\"}, \"y\": {\"field\": \"__count\", \"scale\": \"y\"}, \"fill\": {\"value\": \"#4c78a8\"}}}, \"interactive\": true, \"style\": [\"bar\"], \"clip\": true}], \"scales\": [{\"name\": \"x\", \"type\": \"linear\", \"domain\": [{\"signal\": \"(data(\\\"source_0_x_domain_floor_count\\\")[0] || {}).min\"}, {\"signal\": \"(data(\\\"source_0_x_domain_floor_count\\\")[0] || {}).max\"}], \"range\": [0, {\"signal\": \"width\"}], \"padding\": 5, \"zero\": false, \"domainRaw\": {\"signal\": \"param_6[\\\"floor_count\\\"]\"}, \"nice\": true}, {\"name\": \"y\", \"type\": \"linear\", \"domain\": [{\"signal\": \"(data(\\\"source_0_y_domain___count\\\")[0] || {}).min\"}, {\"signal\": \"(data(\\\"source_0_y_domain___count\\\")[0] || {}).max\"}], \"range\": [{\"signal\": \"height\"}, 0], \"nice\": true, \"zero\": true}], \"axes\": [{\"scale\": \"x\", \"orient\": \"bottom\", \"gridScale\": \"y\", \"tickCount\": {\"signal\": \"ceil(width/40)\"}, \"grid\": true, \"zindex\": 0, \"minExtent\": 0, \"maxExtent\": 0, \"aria\": false, \"domain\": false, \"labels\": false, \"ticks\": false}, {\"scale\": \"y\", \"maxExtent\": 0, \"zindex\": 0, \"ticks\": false, \"tickCount\": {\"signal\": \"ceil(height/40)\"}, \"gridScale\": \"x\", \"labels\": false, \"aria\": false, \"minExtent\": 0, \"domain\": false, \"grid\": true, \"orient\": \"left\"}, {\"scale\": \"x\", \"labelFlush\": true, \"labelOverlap\": true, \"zindex\": 0, \"tickCount\": {\"signal\": \"ceil(width/40)\"}, \"grid\": false, \"orient\": \"bottom\", \"title\": \"floor_count\"}, {\"scale\": \"y\", \"orient\": \"left\", \"labelOverlap\": true, \"grid\": false, \"title\": \"Count of Records\", \"tickCount\": {\"signal\": \"ceil(height/40)\"}, \"zindex\": 0}], \"style\": \"cell\", \"width\": 300, \"padding\": 5, \"height\": 300, \"background\": \"white\"}, {\"mode\": \"vega\"});\n",
       "</script>"
      ],
      "text/plain": [
       "alt.Chart(...)"
      ]
     },
     "execution_count": 136,
     "metadata": {},
     "output_type": "execute_result"
    }
   ],
   "source": [
    "\n",
    "alt.Chart(df_flats).mark_bar().encode(\n",
    "    x = \"floor_count:Q\",\n",
    "    y = \"count()\",\n",
    ").interactive()"
   ]
  },
  {
   "cell_type": "code",
   "execution_count": 137,
   "id": "c36765a3",
   "metadata": {},
   "outputs": [],
   "source": [
    "df_flats = df_flats[df_flats[\"floor_count\"] < 46]"
   ]
  },
  {
   "cell_type": "code",
   "execution_count": 138,
   "id": "0c531342",
   "metadata": {},
   "outputs": [],
   "source": [
    "df_flats = df_flats[df_flats[\"floor_count\"] > df_flats[\"floor\"]]"
   ]
  },
  {
   "cell_type": "code",
   "execution_count": 139,
   "id": "7a6871a5",
   "metadata": {},
   "outputs": [
    {
     "data": {
      "application/vnd.microsoft.datawrangler.viewer.v0+json": {
       "columns": [
        {
         "name": "index",
         "rawType": "object",
         "type": "string"
        },
        {
         "name": "Unnamed: 0",
         "rawType": "float64",
         "type": "float"
        },
        {
         "name": "price",
         "rawType": "float64",
         "type": "float"
        },
        {
         "name": "room_count",
         "rawType": "float64",
         "type": "float"
        },
        {
         "name": "floor_count",
         "rawType": "float64",
         "type": "float"
        },
        {
         "name": "floor",
         "rawType": "float64",
         "type": "float"
        },
        {
         "name": "area_total",
         "rawType": "float64",
         "type": "float"
        },
        {
         "name": "area_kitchen",
         "rawType": "float64",
         "type": "float"
        },
        {
         "name": "area_living",
         "rawType": "float64",
         "type": "float"
        },
        {
         "name": "ceiling_height",
         "rawType": "float64",
         "type": "float"
        },
        {
         "name": "price_UAH",
         "rawType": "float64",
         "type": "float"
        }
       ],
       "ref": "a7959bad-bc9c-4102-88ee-3821aecc2360",
       "rows": [
        [
         "count",
         "439725.0",
         "439725.0",
         "439725.0",
         "439725.0",
         "439725.0",
         "438504.0",
         "372037.0",
         "328634.0",
         "15582.0",
         "439725.0"
        ],
        [
         "mean",
         "719191.3022684632",
         "149185.91659332538",
         "2.104103701176872",
         "13.147869691284326",
         "6.82571152424811",
         "75.29883234816559",
         "48.6860289433578",
         "36.85566779456782",
         "5.546489539211911",
         "1953254.714409368"
        ],
        [
         "std",
         "412797.4774289448",
         "620187.8801796316",
         "1.0094560746258892",
         "7.542034739985713",
         "5.637446070253774",
         "1069.4655888113255",
         "18528.389695921916",
         "94.9242739542389",
         "83.51734184240044",
         "6030812.105943898"
        ],
        [
         "min",
         "5.0",
         "1.0",
         "1.0",
         "2.0",
         "1.0",
         "0.71",
         "0.1",
         "0.01",
         "0.01",
         "1.0"
        ],
        [
         "25%",
         "356683.0",
         "30000.0",
         "1.0",
         "9.0",
         "3.0",
         "44.0",
         "8.0",
         "19.0",
         "2.7",
         "707085.0"
        ],
        [
         "50%",
         "716337.0",
         "50000.0",
         "2.0",
         "10.0",
         "5.0",
         "60.0",
         "11.0",
         "32.0",
         "2.9",
         "1141260.0"
        ],
        [
         "75%",
         "1081873.0",
         "95000.0",
         "3.0",
         "19.0",
         "9.0",
         "79.0",
         "15.0",
         "45.0",
         "3.0",
         "1984800.0"
        ],
        [
         "max",
         "1429887.0",
         "121500000.0",
         "11.0",
         "45.0",
         "41.0",
         "444444.0",
         "11111113.0",
         "41674.0",
         "3200.0",
         "2481000000.0"
        ]
       ],
       "shape": {
        "columns": 10,
        "rows": 8
       }
      },
      "text/html": [
       "<div>\n",
       "<style scoped>\n",
       "    .dataframe tbody tr th:only-of-type {\n",
       "        vertical-align: middle;\n",
       "    }\n",
       "\n",
       "    .dataframe tbody tr th {\n",
       "        vertical-align: top;\n",
       "    }\n",
       "\n",
       "    .dataframe thead th {\n",
       "        text-align: right;\n",
       "    }\n",
       "</style>\n",
       "<table border=\"1\" class=\"dataframe\">\n",
       "  <thead>\n",
       "    <tr style=\"text-align: right;\">\n",
       "      <th></th>\n",
       "      <th>Unnamed: 0</th>\n",
       "      <th>price</th>\n",
       "      <th>room_count</th>\n",
       "      <th>floor_count</th>\n",
       "      <th>floor</th>\n",
       "      <th>area_total</th>\n",
       "      <th>area_kitchen</th>\n",
       "      <th>area_living</th>\n",
       "      <th>ceiling_height</th>\n",
       "      <th>price_UAH</th>\n",
       "    </tr>\n",
       "  </thead>\n",
       "  <tbody>\n",
       "    <tr>\n",
       "      <th>count</th>\n",
       "      <td>4.397250e+05</td>\n",
       "      <td>4.397250e+05</td>\n",
       "      <td>439725.000000</td>\n",
       "      <td>439725.000000</td>\n",
       "      <td>439725.000000</td>\n",
       "      <td>438504.000000</td>\n",
       "      <td>3.720370e+05</td>\n",
       "      <td>328634.000000</td>\n",
       "      <td>15582.000000</td>\n",
       "      <td>4.397250e+05</td>\n",
       "    </tr>\n",
       "    <tr>\n",
       "      <th>mean</th>\n",
       "      <td>7.191913e+05</td>\n",
       "      <td>1.491859e+05</td>\n",
       "      <td>2.104104</td>\n",
       "      <td>13.147870</td>\n",
       "      <td>6.825712</td>\n",
       "      <td>75.298832</td>\n",
       "      <td>4.868603e+01</td>\n",
       "      <td>36.855668</td>\n",
       "      <td>5.546490</td>\n",
       "      <td>1.953255e+06</td>\n",
       "    </tr>\n",
       "    <tr>\n",
       "      <th>std</th>\n",
       "      <td>4.127975e+05</td>\n",
       "      <td>6.201879e+05</td>\n",
       "      <td>1.009456</td>\n",
       "      <td>7.542035</td>\n",
       "      <td>5.637446</td>\n",
       "      <td>1069.465589</td>\n",
       "      <td>1.852839e+04</td>\n",
       "      <td>94.924274</td>\n",
       "      <td>83.517342</td>\n",
       "      <td>6.030812e+06</td>\n",
       "    </tr>\n",
       "    <tr>\n",
       "      <th>min</th>\n",
       "      <td>5.000000e+00</td>\n",
       "      <td>1.000000e+00</td>\n",
       "      <td>1.000000</td>\n",
       "      <td>2.000000</td>\n",
       "      <td>1.000000</td>\n",
       "      <td>0.710000</td>\n",
       "      <td>1.000000e-01</td>\n",
       "      <td>0.010000</td>\n",
       "      <td>0.010000</td>\n",
       "      <td>1.000000e+00</td>\n",
       "    </tr>\n",
       "    <tr>\n",
       "      <th>25%</th>\n",
       "      <td>3.566830e+05</td>\n",
       "      <td>3.000000e+04</td>\n",
       "      <td>1.000000</td>\n",
       "      <td>9.000000</td>\n",
       "      <td>3.000000</td>\n",
       "      <td>44.000000</td>\n",
       "      <td>8.000000e+00</td>\n",
       "      <td>19.000000</td>\n",
       "      <td>2.700000</td>\n",
       "      <td>7.070850e+05</td>\n",
       "    </tr>\n",
       "    <tr>\n",
       "      <th>50%</th>\n",
       "      <td>7.163370e+05</td>\n",
       "      <td>5.000000e+04</td>\n",
       "      <td>2.000000</td>\n",
       "      <td>10.000000</td>\n",
       "      <td>5.000000</td>\n",
       "      <td>60.000000</td>\n",
       "      <td>1.100000e+01</td>\n",
       "      <td>32.000000</td>\n",
       "      <td>2.900000</td>\n",
       "      <td>1.141260e+06</td>\n",
       "    </tr>\n",
       "    <tr>\n",
       "      <th>75%</th>\n",
       "      <td>1.081873e+06</td>\n",
       "      <td>9.500000e+04</td>\n",
       "      <td>3.000000</td>\n",
       "      <td>19.000000</td>\n",
       "      <td>9.000000</td>\n",
       "      <td>79.000000</td>\n",
       "      <td>1.500000e+01</td>\n",
       "      <td>45.000000</td>\n",
       "      <td>3.000000</td>\n",
       "      <td>1.984800e+06</td>\n",
       "    </tr>\n",
       "    <tr>\n",
       "      <th>max</th>\n",
       "      <td>1.429887e+06</td>\n",
       "      <td>1.215000e+08</td>\n",
       "      <td>11.000000</td>\n",
       "      <td>45.000000</td>\n",
       "      <td>41.000000</td>\n",
       "      <td>444444.000000</td>\n",
       "      <td>1.111111e+07</td>\n",
       "      <td>41674.000000</td>\n",
       "      <td>3200.000000</td>\n",
       "      <td>2.481000e+09</td>\n",
       "    </tr>\n",
       "  </tbody>\n",
       "</table>\n",
       "</div>"
      ],
      "text/plain": [
       "         Unnamed: 0         price     room_count    floor_count  \\\n",
       "count  4.397250e+05  4.397250e+05  439725.000000  439725.000000   \n",
       "mean   7.191913e+05  1.491859e+05       2.104104      13.147870   \n",
       "std    4.127975e+05  6.201879e+05       1.009456       7.542035   \n",
       "min    5.000000e+00  1.000000e+00       1.000000       2.000000   \n",
       "25%    3.566830e+05  3.000000e+04       1.000000       9.000000   \n",
       "50%    7.163370e+05  5.000000e+04       2.000000      10.000000   \n",
       "75%    1.081873e+06  9.500000e+04       3.000000      19.000000   \n",
       "max    1.429887e+06  1.215000e+08      11.000000      45.000000   \n",
       "\n",
       "               floor     area_total  area_kitchen    area_living  \\\n",
       "count  439725.000000  438504.000000  3.720370e+05  328634.000000   \n",
       "mean        6.825712      75.298832  4.868603e+01      36.855668   \n",
       "std         5.637446    1069.465589  1.852839e+04      94.924274   \n",
       "min         1.000000       0.710000  1.000000e-01       0.010000   \n",
       "25%         3.000000      44.000000  8.000000e+00      19.000000   \n",
       "50%         5.000000      60.000000  1.100000e+01      32.000000   \n",
       "75%         9.000000      79.000000  1.500000e+01      45.000000   \n",
       "max        41.000000  444444.000000  1.111111e+07   41674.000000   \n",
       "\n",
       "       ceiling_height     price_UAH  \n",
       "count    15582.000000  4.397250e+05  \n",
       "mean         5.546490  1.953255e+06  \n",
       "std         83.517342  6.030812e+06  \n",
       "min          0.010000  1.000000e+00  \n",
       "25%          2.700000  7.070850e+05  \n",
       "50%          2.900000  1.141260e+06  \n",
       "75%          3.000000  1.984800e+06  \n",
       "max       3200.000000  2.481000e+09  "
      ]
     },
     "execution_count": 139,
     "metadata": {},
     "output_type": "execute_result"
    }
   ],
   "source": [
    "df_flats.describe() "
   ]
  },
  {
   "cell_type": "markdown",
   "id": "712abea6-4e6e-4c65-b8f2-118e560d42d3",
   "metadata": {},
   "source": [
    "Нарешті, ще одне завдання. Використовуючи будь-який підхід, який вам до вподоби (звичайні функції, регулярні вирази тощо), спробуйте виділити з колонки гео дані про місто, а в ідеалі ще номер будинку і вулицю. Задача зовсім не легка, тому можете сконцентруватися на Києві, Харкові та Львові. \n",
    "\n",
    "Спробуйте проітеруватися над вашим алгоритмом декілька разів і перевірити, чи адекватні ті дані, які ви отримуєте.\n",
    "І ще одне: тут немає мети виділити правильне місто зі 100% оголошень. У деяких ситуаціях цілком ок принести в жертву деяку кількість записів, якщо алгоритм при цьому буде достатньо простим."
   ]
  },
  {
   "cell_type": "code",
   "execution_count": 140,
   "id": "2acb1051-b010-4bf5-a021-f67d91a86f49",
   "metadata": {},
   "outputs": [
    {
     "data": {
      "text/plain": [
       "<Axes: title={'center': 'price_UAH'}, xlabel='room_count'>"
      ]
     },
     "execution_count": 140,
     "metadata": {},
     "output_type": "execute_result"
    },
    {
     "data": {
      "image/png": "[encoded data removed]",
      "text/plain": [
       "<Figure size 640x480 with 1 Axes>"
      ]
     },
     "metadata": {},
     "output_type": "display_data"
    }
   ],
   "source": [
    "df_flats[df_flats[\"price\"] < 1e6 ].boxplot(column=\"price_UAH\", by=\"room_count\")"
   ]
  },
  {
   "cell_type": "code",
   "execution_count": 141,
   "id": "ce6138fa",
   "metadata": {},
   "outputs": [
    {
     "data": {
      "image/png": "[encoded data removed]",
      "text/plain": [
       "<Figure size 640x480 with 1 Axes>"
      ]
     },
     "metadata": {},
     "output_type": "display_data"
    }
   ],
   "source": [
    "df_flats[\"room_price\"] = df_flats[\"price\"] / df_flats[\"room_count\"]\n",
    "df_flats[df_flats[\"room_price\"] < 1e6 ].boxplot(column=\"room_price\")\n",
    "df_flats = df_flats[df_flats[\"room_price\"] < 1e6]"
   ]
  },
  {
   "cell_type": "code",
   "execution_count": 142,
   "id": "24a46fb4",
   "metadata": {},
   "outputs": [
    {
     "data": {
      "image/png": "[encoded data removed]",
      "text/plain": [
       "<Figure size 640x480 with 1 Axes>"
      ]
     },
     "metadata": {},
     "output_type": "display_data"
    }
   ],
   "source": [
    "df_flats[\"room_area\"] = df_flats[\"area_total\"] / df_flats[\"room_count\"]\n",
    "\n",
    "df_flats[df_flats[\"room_area\"] < 60000 ].boxplot(column=\"room_area\")\n",
    "\n",
    "df_flats = df_flats[df_flats[\"room_area\"] < 300]"
   ]
  },
  {
   "cell_type": "code",
   "execution_count": 143,
   "id": "dc6fbc95",
   "metadata": {},
   "outputs": [],
   "source": [
    "df_flats = df_flats[(df_flats[\"area_total\"] < df_flats[\"area_kitchen\"]) & (df_flats[\"area_total\"] > df_flats[\"area_living\"])]"
   ]
  },
  {
   "cell_type": "code",
   "execution_count": 144,
   "id": "cf710a3f",
   "metadata": {},
   "outputs": [],
   "source": [
    "df_flats = df_flats[df_flats[\"ceiling_height\"] < 5]"
   ]
  },
  {
   "cell_type": "code",
   "execution_count": 145,
   "id": "ca0d9f71",
   "metadata": {},
   "outputs": [
    {
     "data": {
      "application/vnd.microsoft.datawrangler.viewer.v0+json": {
       "columns": [
        {
         "name": "index",
         "rawType": "object",
         "type": "string"
        },
        {
         "name": "Unnamed: 0",
         "rawType": "float64",
         "type": "float"
        },
        {
         "name": "price",
         "rawType": "float64",
         "type": "float"
        },
        {
         "name": "room_count",
         "rawType": "float64",
         "type": "float"
        },
        {
         "name": "floor_count",
         "rawType": "float64",
         "type": "float"
        },
        {
         "name": "floor",
         "rawType": "float64",
         "type": "float"
        },
        {
         "name": "area_total",
         "rawType": "float64",
         "type": "float"
        },
        {
         "name": "area_kitchen",
         "rawType": "float64",
         "type": "float"
        },
        {
         "name": "area_living",
         "rawType": "float64",
         "type": "float"
        },
        {
         "name": "ceiling_height",
         "rawType": "float64",
         "type": "float"
        },
        {
         "name": "price_UAH",
         "rawType": "float64",
         "type": "float"
        },
        {
         "name": "room_price",
         "rawType": "float64",
         "type": "float"
        },
        {
         "name": "room_area",
         "rawType": "float64",
         "type": "float"
        }
       ],
       "ref": "dff69c6f-9d7d-4f0c-ad98-3134962fa629",
       "rows": [
        [
         "count",
         "7.0",
         "7.0",
         "7.0",
         "7.0",
         "7.0",
         "7.0",
         "7.0",
         "7.0",
         "7.0",
         "7.0",
         "7.0",
         "7.0"
        ],
        [
         "mean",
         "546250.5714285715",
         "114741.14285714286",
         "2.5714285714285716",
         "14.142857142857142",
         "7.857142857142857",
         "75.91428571428571",
         "173.7757142857143",
         "45.848571428571425",
         "2.8428571428571425",
         "2846727.7542857146",
         "45703.90476190477",
         "30.25952380952381"
        ],
        [
         "std",
         "413026.95526113757",
         "98091.3607263293",
         "0.9759000729485333",
         "7.174690967295419",
         "5.2417736002416655",
         "30.332349539253112",
         "113.38628133613913",
         "14.748463681088309",
         "0.15118578920369083",
         "2433646.6596202296",
         "42574.47465225313",
         "7.2136820691453405"
        ],
        [
         "min",
         "57654.0",
         "24300.0",
         "1.0",
         "6.0",
         "1.0",
         "30.4",
         "72.7",
         "23.1",
         "2.7",
         "602883.0",
         "15966.666666666666",
         "18.333333333333332"
        ],
        [
         "25%",
         "286299.5",
         "52350.0",
         "2.0",
         "9.5",
         "4.5",
         "60.5",
         "99.0",
         "38.55",
         "2.7",
         "1298803.5",
         "22150.0",
         "27.291666666666664"
        ],
        [
         "50%",
         "507184.0",
         "60000.0",
         "3.0",
         "12.0",
         "7.0",
         "73.0",
         "156.43",
         "40.0",
         "2.8",
         "1488600.0",
         "28400.0",
         "30.4"
        ],
        [
         "75%",
         "737152.0",
         "170000.0",
         "3.0",
         "19.0",
         "11.0",
         "93.0",
         "195.55",
         "58.65",
         "3.0",
         "4217700.0",
         "47083.33333333333",
         "34.0"
        ],
        [
         "max",
         "1212013.0",
         "274188.0",
         "4.0",
         "24.0",
         "16.0",
         "121.0",
         "398.2",
         "63.44",
         "3.0",
         "6802604.279999999",
         "137094.0",
         "40.5"
        ]
       ],
       "shape": {
        "columns": 12,
        "rows": 8
       }
      },
      "text/html": [
       "<div>\n",
       "<style scoped>\n",
       "    .dataframe tbody tr th:only-of-type {\n",
       "        vertical-align: middle;\n",
       "    }\n",
       "\n",
       "    .dataframe tbody tr th {\n",
       "        vertical-align: top;\n",
       "    }\n",
       "\n",
       "    .dataframe thead th {\n",
       "        text-align: right;\n",
       "    }\n",
       "</style>\n",
       "<table border=\"1\" class=\"dataframe\">\n",
       "  <thead>\n",
       "    <tr style=\"text-align: right;\">\n",
       "      <th></th>\n",
       "      <th>Unnamed: 0</th>\n",
       "      <th>price</th>\n",
       "      <th>room_count</th>\n",
       "      <th>floor_count</th>\n",
       "      <th>floor</th>\n",
       "      <th>area_total</th>\n",
       "      <th>area_kitchen</th>\n",
       "      <th>area_living</th>\n",
       "      <th>ceiling_height</th>\n",
       "      <th>price_UAH</th>\n",
       "      <th>room_price</th>\n",
       "      <th>room_area</th>\n",
       "    </tr>\n",
       "  </thead>\n",
       "  <tbody>\n",
       "    <tr>\n",
       "      <th>count</th>\n",
       "      <td>7.000000e+00</td>\n",
       "      <td>7.000000</td>\n",
       "      <td>7.000000</td>\n",
       "      <td>7.000000</td>\n",
       "      <td>7.000000</td>\n",
       "      <td>7.000000</td>\n",
       "      <td>7.000000</td>\n",
       "      <td>7.000000</td>\n",
       "      <td>7.000000</td>\n",
       "      <td>7.000000e+00</td>\n",
       "      <td>7.000000</td>\n",
       "      <td>7.000000</td>\n",
       "    </tr>\n",
       "    <tr>\n",
       "      <th>mean</th>\n",
       "      <td>5.462506e+05</td>\n",
       "      <td>114741.142857</td>\n",
       "      <td>2.571429</td>\n",
       "      <td>14.142857</td>\n",
       "      <td>7.857143</td>\n",
       "      <td>75.914286</td>\n",
       "      <td>173.775714</td>\n",
       "      <td>45.848571</td>\n",
       "      <td>2.842857</td>\n",
       "      <td>2.846728e+06</td>\n",
       "      <td>45703.904762</td>\n",
       "      <td>30.259524</td>\n",
       "    </tr>\n",
       "    <tr>\n",
       "      <th>std</th>\n",
       "      <td>4.130270e+05</td>\n",
       "      <td>98091.360726</td>\n",
       "      <td>0.975900</td>\n",
       "      <td>7.174691</td>\n",
       "      <td>5.241774</td>\n",
       "      <td>30.332350</td>\n",
       "      <td>113.386281</td>\n",
       "      <td>14.748464</td>\n",
       "      <td>0.151186</td>\n",
       "      <td>2.433647e+06</td>\n",
       "      <td>42574.474652</td>\n",
       "      <td>7.213682</td>\n",
       "    </tr>\n",
       "    <tr>\n",
       "      <th>min</th>\n",
       "      <td>5.765400e+04</td>\n",
       "      <td>24300.000000</td>\n",
       "      <td>1.000000</td>\n",
       "      <td>6.000000</td>\n",
       "      <td>1.000000</td>\n",
       "      <td>30.400000</td>\n",
       "      <td>72.700000</td>\n",
       "      <td>23.100000</td>\n",
       "      <td>2.700000</td>\n",
       "      <td>6.028830e+05</td>\n",
       "      <td>15966.666667</td>\n",
       "      <td>18.333333</td>\n",
       "    </tr>\n",
       "    <tr>\n",
       "      <th>25%</th>\n",
       "      <td>2.862995e+05</td>\n",
       "      <td>52350.000000</td>\n",
       "      <td>2.000000</td>\n",
       "      <td>9.500000</td>\n",
       "      <td>4.500000</td>\n",
       "      <td>60.500000</td>\n",
       "      <td>99.000000</td>\n",
       "      <td>38.550000</td>\n",
       "      <td>2.700000</td>\n",
       "      <td>1.298804e+06</td>\n",
       "      <td>22150.000000</td>\n",
       "      <td>27.291667</td>\n",
       "    </tr>\n",
       "    <tr>\n",
       "      <th>50%</th>\n",
       "      <td>5.071840e+05</td>\n",
       "      <td>60000.000000</td>\n",
       "      <td>3.000000</td>\n",
       "      <td>12.000000</td>\n",
       "      <td>7.000000</td>\n",
       "      <td>73.000000</td>\n",
       "      <td>156.430000</td>\n",
       "      <td>40.000000</td>\n",
       "      <td>2.800000</td>\n",
       "      <td>1.488600e+06</td>\n",
       "      <td>28400.000000</td>\n",
       "      <td>30.400000</td>\n",
       "    </tr>\n",
       "    <tr>\n",
       "      <th>75%</th>\n",
       "      <td>7.371520e+05</td>\n",
       "      <td>170000.000000</td>\n",
       "      <td>3.000000</td>\n",
       "      <td>19.000000</td>\n",
       "      <td>11.000000</td>\n",
       "      <td>93.000000</td>\n",
       "      <td>195.550000</td>\n",
       "      <td>58.650000</td>\n",
       "      <td>3.000000</td>\n",
       "      <td>4.217700e+06</td>\n",
       "      <td>47083.333333</td>\n",
       "      <td>34.000000</td>\n",
       "    </tr>\n",
       "    <tr>\n",
       "      <th>max</th>\n",
       "      <td>1.212013e+06</td>\n",
       "      <td>274188.000000</td>\n",
       "      <td>4.000000</td>\n",
       "      <td>24.000000</td>\n",
       "      <td>16.000000</td>\n",
       "      <td>121.000000</td>\n",
       "      <td>398.200000</td>\n",
       "      <td>63.440000</td>\n",
       "      <td>3.000000</td>\n",
       "      <td>6.802604e+06</td>\n",
       "      <td>137094.000000</td>\n",
       "      <td>40.500000</td>\n",
       "    </tr>\n",
       "  </tbody>\n",
       "</table>\n",
       "</div>"
      ],
      "text/plain": [
       "         Unnamed: 0          price  room_count  floor_count      floor  \\\n",
       "count  7.000000e+00       7.000000    7.000000     7.000000   7.000000   \n",
       "mean   5.462506e+05  114741.142857    2.571429    14.142857   7.857143   \n",
       "std    4.130270e+05   98091.360726    0.975900     7.174691   5.241774   \n",
       "min    5.765400e+04   24300.000000    1.000000     6.000000   1.000000   \n",
       "25%    2.862995e+05   52350.000000    2.000000     9.500000   4.500000   \n",
       "50%    5.071840e+05   60000.000000    3.000000    12.000000   7.000000   \n",
       "75%    7.371520e+05  170000.000000    3.000000    19.000000  11.000000   \n",
       "max    1.212013e+06  274188.000000    4.000000    24.000000  16.000000   \n",
       "\n",
       "       area_total  area_kitchen  area_living  ceiling_height     price_UAH  \\\n",
       "count    7.000000      7.000000     7.000000        7.000000  7.000000e+00   \n",
       "mean    75.914286    173.775714    45.848571        2.842857  2.846728e+06   \n",
       "std     30.332350    113.386281    14.748464        0.151186  2.433647e+06   \n",
       "min     30.400000     72.700000    23.100000        2.700000  6.028830e+05   \n",
       "25%     60.500000     99.000000    38.550000        2.700000  1.298804e+06   \n",
       "50%     73.000000    156.430000    40.000000        2.800000  1.488600e+06   \n",
       "75%     93.000000    195.550000    58.650000        3.000000  4.217700e+06   \n",
       "max    121.000000    398.200000    63.440000        3.000000  6.802604e+06   \n",
       "\n",
       "          room_price  room_area  \n",
       "count       7.000000   7.000000  \n",
       "mean    45703.904762  30.259524  \n",
       "std     42574.474652   7.213682  \n",
       "min     15966.666667  18.333333  \n",
       "25%     22150.000000  27.291667  \n",
       "50%     28400.000000  30.400000  \n",
       "75%     47083.333333  34.000000  \n",
       "max    137094.000000  40.500000  "
      ]
     },
     "execution_count": 145,
     "metadata": {},
     "output_type": "execute_result"
    }
   ],
   "source": [
    "df_flats.describe()"
   ]
  },
  {
   "cell_type": "markdown",
   "id": "b37335a9",
   "metadata": {},
   "source": [
    "Запропонований датасет - зріз оголошень за певний період. Звісно, що чим старше оголошення, тим більша імовірність, що обʼєкт таки продадуть. А чи можете ви спробувати знайти медіанний вік оголошення? Спершу \"статистично\", потім графічно :)\n"
   ]
  },
  {
   "cell_type": "code",
   "execution_count": 146,
   "id": "d9a7153c",
   "metadata": {},
   "outputs": [
    {
     "data": {
      "text/plain": [
       "(7, 16)"
      ]
     },
     "execution_count": 146,
     "metadata": {},
     "output_type": "execute_result"
    }
   ],
   "source": [
    "group_cols = [col for col in df_flats.columns if (col != \"download_time\") & (col != \"Unnamed: 0\")]\n",
    "\n",
    "df_result = df_flats.groupby(group_cols, dropna=False)[\"download_time\"].max().reset_index()\n",
    "\n",
    "df_result.shape"
   ]
  },
  {
   "cell_type": "code",
   "execution_count": 154,
   "id": "d3d32602",
   "metadata": {},
   "outputs": [],
   "source": [
    "df_result[\"time\"] = pd.to_datetime(df_result[\"download_time\"]) - pd.to_datetime(df_result[\"insert_time\"])"
   ]
  },
  {
   "cell_type": "code",
   "execution_count": 155,
   "id": "9bf6ceb7",
   "metadata": {},
   "outputs": [
    {
     "ename": "UFuncTypeError",
     "evalue": "ufunc 'less' did not contain a loop with signature matching types (<class 'numpy.dtypes.TimeDelta64DType'>, <class 'numpy.dtypes._PyFloatDType'>) -> None",
     "output_type": "error",
     "traceback": [
      "\u001b[31m---------------------------------------------------------------------------\u001b[39m",
      "\u001b[31mDTypePromotionError\u001b[39m                       Traceback (most recent call last)",
      "\u001b[31mDTypePromotionError\u001b[39m: The DType <class 'numpy.dtypes.TimeDelta64DType'> could not be promoted by <class 'numpy.dtypes._PyFloatDType'>. This means that no common DType exists for the given inputs. For example they cannot be stored in a single array unless the dtype is `object`. The full list of DTypes is: (<class 'numpy.dtypes.TimeDelta64DType'>, <class 'numpy.dtypes._PyFloatDType'>)",
      "\nThe above exception was the direct cause of the following exception:\n",
      "\u001b[31mUFuncTypeError\u001b[39m                            Traceback (most recent call last)",
      "\u001b[36mCell\u001b[39m\u001b[36m \u001b[39m\u001b[32mIn[155]\u001b[39m\u001b[32m, line 1\u001b[39m\n\u001b[32m----> \u001b[39m\u001b[32m1\u001b[39m \u001b[43mplt\u001b[49m\u001b[43m.\u001b[49m\u001b[43mhist\u001b[49m\u001b[43m(\u001b[49m\u001b[43mdf_result\u001b[49m\u001b[43m[\u001b[49m\u001b[33;43m\"\u001b[39;49m\u001b[33;43mtime\u001b[39;49m\u001b[33;43m\"\u001b[39;49m\u001b[43m]\u001b[49m\u001b[43m,\u001b[49m\u001b[43m \u001b[49m\u001b[43mbins\u001b[49m\u001b[43m=\u001b[49m\u001b[32;43m20\u001b[39;49m\u001b[43m)\u001b[49m\n\u001b[32m      2\u001b[39m plt.axvline(df_result[\u001b[33m\"\u001b[39m\u001b[33mtime\u001b[39m\u001b[33m\"\u001b[39m].median(), color=\u001b[33m\"\u001b[39m\u001b[33mred\u001b[39m\u001b[33m\"\u001b[39m)\n\u001b[32m      3\u001b[39m plt.axvline(df_result[\u001b[33m\"\u001b[39m\u001b[33mtime\u001b[39m\u001b[33m\"\u001b[39m].mean(), color=\u001b[33m\"\u001b[39m\u001b[33morange\u001b[39m\u001b[33m\"\u001b[39m)\n",
      "\u001b[36mFile \u001b[39m\u001b[32mc:\\Users\\MSI_PC\\AppData\\Local\\Programs\\Python\\Python313\\Lib\\site-packages\\matplotlib\\_api\\deprecation.py:453\u001b[39m, in \u001b[36mmake_keyword_only.<locals>.wrapper\u001b[39m\u001b[34m(*args, **kwargs)\u001b[39m\n\u001b[32m    447\u001b[39m \u001b[38;5;28;01mif\u001b[39;00m \u001b[38;5;28mlen\u001b[39m(args) > name_idx:\n\u001b[32m    448\u001b[39m     warn_deprecated(\n\u001b[32m    449\u001b[39m         since, message=\u001b[33m\"\u001b[39m\u001b[33mPassing the \u001b[39m\u001b[38;5;132;01m%(name)s\u001b[39;00m\u001b[33m \u001b[39m\u001b[38;5;132;01m%(obj_type)s\u001b[39;00m\u001b[33m \u001b[39m\u001b[33m\"\u001b[39m\n\u001b[32m    450\u001b[39m         \u001b[33m\"\u001b[39m\u001b[33mpositionally is deprecated since Matplotlib \u001b[39m\u001b[38;5;132;01m%(since)s\u001b[39;00m\u001b[33m; the \u001b[39m\u001b[33m\"\u001b[39m\n\u001b[32m    451\u001b[39m         \u001b[33m\"\u001b[39m\u001b[33mparameter will become keyword-only in \u001b[39m\u001b[38;5;132;01m%(removal)s\u001b[39;00m\u001b[33m.\u001b[39m\u001b[33m\"\u001b[39m,\n\u001b[32m    452\u001b[39m         name=name, obj_type=\u001b[33mf\u001b[39m\u001b[33m\"\u001b[39m\u001b[33mparameter of \u001b[39m\u001b[38;5;132;01m{\u001b[39;00mfunc.\u001b[34m__name__\u001b[39m\u001b[38;5;132;01m}\u001b[39;00m\u001b[33m()\u001b[39m\u001b[33m\"\u001b[39m)\n\u001b[32m--> \u001b[39m\u001b[32m453\u001b[39m \u001b[38;5;28;01mreturn\u001b[39;00m \u001b[43mfunc\u001b[49m\u001b[43m(\u001b[49m\u001b[43m*\u001b[49m\u001b[43margs\u001b[49m\u001b[43m,\u001b[49m\u001b[43m \u001b[49m\u001b[43m*\u001b[49m\u001b[43m*\u001b[49m\u001b[43mkwargs\u001b[49m\u001b[43m)\u001b[49m\n",
      "\u001b[36mFile \u001b[39m\u001b[32mc:\\Users\\MSI_PC\\AppData\\Local\\Programs\\Python\\Python313\\Lib\\site-packages\\matplotlib\\pyplot.py:3478\u001b[39m, in \u001b[36mhist\u001b[39m\u001b[34m(x, bins, range, density, weights, cumulative, bottom, histtype, align, orientation, rwidth, log, color, label, stacked, data, **kwargs)\u001b[39m\n\u001b[32m   3453\u001b[39m \u001b[38;5;129m@_copy_docstring_and_deprecators\u001b[39m(Axes.hist)\n\u001b[32m   3454\u001b[39m \u001b[38;5;28;01mdef\u001b[39;00m\u001b[38;5;250m \u001b[39m\u001b[34mhist\u001b[39m(\n\u001b[32m   3455\u001b[39m     x: ArrayLike | Sequence[ArrayLike],\n\u001b[32m   (...)\u001b[39m\u001b[32m   3476\u001b[39m     BarContainer | Polygon | \u001b[38;5;28mlist\u001b[39m[BarContainer | Polygon],\n\u001b[32m   3477\u001b[39m ]:\n\u001b[32m-> \u001b[39m\u001b[32m3478\u001b[39m     \u001b[38;5;28;01mreturn\u001b[39;00m \u001b[43mgca\u001b[49m\u001b[43m(\u001b[49m\u001b[43m)\u001b[49m\u001b[43m.\u001b[49m\u001b[43mhist\u001b[49m\u001b[43m(\u001b[49m\n\u001b[32m   3479\u001b[39m \u001b[43m        \u001b[49m\u001b[43mx\u001b[49m\u001b[43m,\u001b[49m\n\u001b[32m   3480\u001b[39m \u001b[43m        \u001b[49m\u001b[43mbins\u001b[49m\u001b[43m=\u001b[49m\u001b[43mbins\u001b[49m\u001b[43m,\u001b[49m\n\u001b[32m   3481\u001b[39m \u001b[43m        \u001b[49m\u001b[38;5;28;43mrange\u001b[39;49m\u001b[43m=\u001b[49m\u001b[38;5;28;43mrange\u001b[39;49m\u001b[43m,\u001b[49m\n\u001b[32m   3482\u001b[39m \u001b[43m        \u001b[49m\u001b[43mdensity\u001b[49m\u001b[43m=\u001b[49m\u001b[43mdensity\u001b[49m\u001b[43m,\u001b[49m\n\u001b[32m   3483\u001b[39m \u001b[43m        \u001b[49m\u001b[43mweights\u001b[49m\u001b[43m=\u001b[49m\u001b[43mweights\u001b[49m\u001b[43m,\u001b[49m\n\u001b[32m   3484\u001b[39m \u001b[43m        \u001b[49m\u001b[43mcumulative\u001b[49m\u001b[43m=\u001b[49m\u001b[43mcumulative\u001b[49m\u001b[43m,\u001b[49m\n\u001b[32m   3485\u001b[39m \u001b[43m        \u001b[49m\u001b[43mbottom\u001b[49m\u001b[43m=\u001b[49m\u001b[43mbottom\u001b[49m\u001b[43m,\u001b[49m\n\u001b[32m   3486\u001b[39m \u001b[43m        \u001b[49m\u001b[43mhisttype\u001b[49m\u001b[43m=\u001b[49m\u001b[43mhisttype\u001b[49m\u001b[43m,\u001b[49m\n\u001b[32m   3487\u001b[39m \u001b[43m        \u001b[49m\u001b[43malign\u001b[49m\u001b[43m=\u001b[49m\u001b[43malign\u001b[49m\u001b[43m,\u001b[49m\n\u001b[32m   3488\u001b[39m \u001b[43m        \u001b[49m\u001b[43morientation\u001b[49m\u001b[43m=\u001b[49m\u001b[43morientation\u001b[49m\u001b[43m,\u001b[49m\n\u001b[32m   3489\u001b[39m \u001b[43m        \u001b[49m\u001b[43mrwidth\u001b[49m\u001b[43m=\u001b[49m\u001b[43mrwidth\u001b[49m\u001b[43m,\u001b[49m\n\u001b[32m   3490\u001b[39m \u001b[43m        \u001b[49m\u001b[43mlog\u001b[49m\u001b[43m=\u001b[49m\u001b[43mlog\u001b[49m\u001b[43m,\u001b[49m\n\u001b[32m   3491\u001b[39m \u001b[43m        \u001b[49m\u001b[43mcolor\u001b[49m\u001b[43m=\u001b[49m\u001b[43mcolor\u001b[49m\u001b[43m,\u001b[49m\n\u001b[32m   3492\u001b[39m \u001b[43m        \u001b[49m\u001b[43mlabel\u001b[49m\u001b[43m=\u001b[49m\u001b[43mlabel\u001b[49m\u001b[43m,\u001b[49m\n\u001b[32m   3493\u001b[39m \u001b[43m        \u001b[49m\u001b[43mstacked\u001b[49m\u001b[43m=\u001b[49m\u001b[43mstacked\u001b[49m\u001b[43m,\u001b[49m\n\u001b[32m   3494\u001b[39m \u001b[43m        \u001b[49m\u001b[43m*\u001b[49m\u001b[43m*\u001b[49m\u001b[43m(\u001b[49m\u001b[43m{\u001b[49m\u001b[33;43m\"\u001b[39;49m\u001b[33;43mdata\u001b[39;49m\u001b[33;43m\"\u001b[39;49m\u001b[43m:\u001b[49m\u001b[43m \u001b[49m\u001b[43mdata\u001b[49m\u001b[43m}\u001b[49m\u001b[43m \u001b[49m\u001b[38;5;28;43;01mif\u001b[39;49;00m\u001b[43m \u001b[49m\u001b[43mdata\u001b[49m\u001b[43m \u001b[49m\u001b[38;5;129;43;01mis\u001b[39;49;00m\u001b[43m \u001b[49m\u001b[38;5;129;43;01mnot\u001b[39;49;00m\u001b[43m \u001b[49m\u001b[38;5;28;43;01mNone\u001b[39;49;00m\u001b[43m \u001b[49m\u001b[38;5;28;43;01melse\u001b[39;49;00m\u001b[43m \u001b[49m\u001b[43m{\u001b[49m\u001b[43m}\u001b[49m\u001b[43m)\u001b[49m\u001b[43m,\u001b[49m\n\u001b[32m   3495\u001b[39m \u001b[43m        \u001b[49m\u001b[43m*\u001b[49m\u001b[43m*\u001b[49m\u001b[43mkwargs\u001b[49m\u001b[43m,\u001b[49m\n\u001b[32m   3496\u001b[39m \u001b[43m    \u001b[49m\u001b[43m)\u001b[49m\n",
      "\u001b[36mFile \u001b[39m\u001b[32mc:\\Users\\MSI_PC\\AppData\\Local\\Programs\\Python\\Python313\\Lib\\site-packages\\matplotlib\\_api\\deprecation.py:453\u001b[39m, in \u001b[36mmake_keyword_only.<locals>.wrapper\u001b[39m\u001b[34m(*args, **kwargs)\u001b[39m\n\u001b[32m    447\u001b[39m \u001b[38;5;28;01mif\u001b[39;00m \u001b[38;5;28mlen\u001b[39m(args) > name_idx:\n\u001b[32m    448\u001b[39m     warn_deprecated(\n\u001b[32m    449\u001b[39m         since, message=\u001b[33m\"\u001b[39m\u001b[33mPassing the \u001b[39m\u001b[38;5;132;01m%(name)s\u001b[39;00m\u001b[33m \u001b[39m\u001b[38;5;132;01m%(obj_type)s\u001b[39;00m\u001b[33m \u001b[39m\u001b[33m\"\u001b[39m\n\u001b[32m    450\u001b[39m         \u001b[33m\"\u001b[39m\u001b[33mpositionally is deprecated since Matplotlib \u001b[39m\u001b[38;5;132;01m%(since)s\u001b[39;00m\u001b[33m; the \u001b[39m\u001b[33m\"\u001b[39m\n\u001b[32m    451\u001b[39m         \u001b[33m\"\u001b[39m\u001b[33mparameter will become keyword-only in \u001b[39m\u001b[38;5;132;01m%(removal)s\u001b[39;00m\u001b[33m.\u001b[39m\u001b[33m\"\u001b[39m,\n\u001b[32m    452\u001b[39m         name=name, obj_type=\u001b[33mf\u001b[39m\u001b[33m\"\u001b[39m\u001b[33mparameter of \u001b[39m\u001b[38;5;132;01m{\u001b[39;00mfunc.\u001b[34m__name__\u001b[39m\u001b[38;5;132;01m}\u001b[39;00m\u001b[33m()\u001b[39m\u001b[33m\"\u001b[39m)\n\u001b[32m--> \u001b[39m\u001b[32m453\u001b[39m \u001b[38;5;28;01mreturn\u001b[39;00m \u001b[43mfunc\u001b[49m\u001b[43m(\u001b[49m\u001b[43m*\u001b[49m\u001b[43margs\u001b[49m\u001b[43m,\u001b[49m\u001b[43m \u001b[49m\u001b[43m*\u001b[49m\u001b[43m*\u001b[49m\u001b[43mkwargs\u001b[49m\u001b[43m)\u001b[49m\n",
      "\u001b[36mFile \u001b[39m\u001b[32mc:\\Users\\MSI_PC\\AppData\\Local\\Programs\\Python\\Python313\\Lib\\site-packages\\matplotlib\\__init__.py:1521\u001b[39m, in \u001b[36m_preprocess_data.<locals>.inner\u001b[39m\u001b[34m(ax, data, *args, **kwargs)\u001b[39m\n\u001b[32m   1518\u001b[39m \u001b[38;5;129m@functools\u001b[39m.wraps(func)\n\u001b[32m   1519\u001b[39m \u001b[38;5;28;01mdef\u001b[39;00m\u001b[38;5;250m \u001b[39m\u001b[34minner\u001b[39m(ax, *args, data=\u001b[38;5;28;01mNone\u001b[39;00m, **kwargs):\n\u001b[32m   1520\u001b[39m     \u001b[38;5;28;01mif\u001b[39;00m data \u001b[38;5;129;01mis\u001b[39;00m \u001b[38;5;28;01mNone\u001b[39;00m:\n\u001b[32m-> \u001b[39m\u001b[32m1521\u001b[39m         \u001b[38;5;28;01mreturn\u001b[39;00m \u001b[43mfunc\u001b[49m\u001b[43m(\u001b[49m\n\u001b[32m   1522\u001b[39m \u001b[43m            \u001b[49m\u001b[43max\u001b[49m\u001b[43m,\u001b[49m\n\u001b[32m   1523\u001b[39m \u001b[43m            \u001b[49m\u001b[43m*\u001b[49m\u001b[38;5;28;43mmap\u001b[39;49m\u001b[43m(\u001b[49m\u001b[43mcbook\u001b[49m\u001b[43m.\u001b[49m\u001b[43msanitize_sequence\u001b[49m\u001b[43m,\u001b[49m\u001b[43m \u001b[49m\u001b[43margs\u001b[49m\u001b[43m)\u001b[49m\u001b[43m,\u001b[49m\n\u001b[32m   1524\u001b[39m \u001b[43m            \u001b[49m\u001b[43m*\u001b[49m\u001b[43m*\u001b[49m\u001b[43m{\u001b[49m\u001b[43mk\u001b[49m\u001b[43m:\u001b[49m\u001b[43m \u001b[49m\u001b[43mcbook\u001b[49m\u001b[43m.\u001b[49m\u001b[43msanitize_sequence\u001b[49m\u001b[43m(\u001b[49m\u001b[43mv\u001b[49m\u001b[43m)\u001b[49m\u001b[43m \u001b[49m\u001b[38;5;28;43;01mfor\u001b[39;49;00m\u001b[43m \u001b[49m\u001b[43mk\u001b[49m\u001b[43m,\u001b[49m\u001b[43m \u001b[49m\u001b[43mv\u001b[49m\u001b[43m \u001b[49m\u001b[38;5;129;43;01min\u001b[39;49;00m\u001b[43m \u001b[49m\u001b[43mkwargs\u001b[49m\u001b[43m.\u001b[49m\u001b[43mitems\u001b[49m\u001b[43m(\u001b[49m\u001b[43m)\u001b[49m\u001b[43m}\u001b[49m\u001b[43m)\u001b[49m\n\u001b[32m   1526\u001b[39m     bound = new_sig.bind(ax, *args, **kwargs)\n\u001b[32m   1527\u001b[39m     auto_label = (bound.arguments.get(label_namer)\n\u001b[32m   1528\u001b[39m                   \u001b[38;5;129;01mor\u001b[39;00m bound.kwargs.get(label_namer))\n",
      "\u001b[36mFile \u001b[39m\u001b[32mc:\\Users\\MSI_PC\\AppData\\Local\\Programs\\Python\\Python313\\Lib\\site-packages\\matplotlib\\axes\\_axes.py:7101\u001b[39m, in \u001b[36mAxes.hist\u001b[39m\u001b[34m(self, x, bins, range, density, weights, cumulative, bottom, histtype, align, orientation, rwidth, log, color, label, stacked, **kwargs)\u001b[39m\n\u001b[32m   7097\u001b[39m \u001b[38;5;28;01mfor\u001b[39;00m xi \u001b[38;5;129;01min\u001b[39;00m x:\n\u001b[32m   7098\u001b[39m     \u001b[38;5;28;01mif\u001b[39;00m \u001b[38;5;28mlen\u001b[39m(xi):\n\u001b[32m   7099\u001b[39m         \u001b[38;5;66;03m# python's min/max ignore nan,\u001b[39;00m\n\u001b[32m   7100\u001b[39m         \u001b[38;5;66;03m# np.minnan returns nan for all nan input\u001b[39;00m\n\u001b[32m-> \u001b[39m\u001b[32m7101\u001b[39m         xmin = \u001b[38;5;28;43mmin\u001b[39;49m\u001b[43m(\u001b[49m\u001b[43mxmin\u001b[49m\u001b[43m,\u001b[49m\u001b[43m \u001b[49m\u001b[43mnp\u001b[49m\u001b[43m.\u001b[49m\u001b[43mnanmin\u001b[49m\u001b[43m(\u001b[49m\u001b[43mxi\u001b[49m\u001b[43m)\u001b[49m\u001b[43m)\u001b[49m\n\u001b[32m   7102\u001b[39m         xmax = \u001b[38;5;28mmax\u001b[39m(xmax, np.nanmax(xi))\n\u001b[32m   7103\u001b[39m \u001b[38;5;28;01mif\u001b[39;00m xmin <= xmax:  \u001b[38;5;66;03m# Only happens if we have seen a finite value.\u001b[39;00m\n",
      "\u001b[31mUFuncTypeError\u001b[39m: ufunc 'less' did not contain a loop with signature matching types (<class 'numpy.dtypes.TimeDelta64DType'>, <class 'numpy.dtypes._PyFloatDType'>) -> None"
     ]
    },
    {
     "data": {
      "image/png": "[encoded data removed]",
      "text/plain": [
       "<Figure size 640x480 with 1 Axes>"
      ]
     },
     "metadata": {},
     "output_type": "display_data"
    }
   ],
   "source": [
    "plt.hist(df_result[\"time\"], bins=20)\n",
    "plt.axvline(df_result[\"time\"].median(), color=\"red\")\n",
    "plt.axvline(df_result[\"time\"].mean(), color=\"orange\")"
   ]
  },
  {
   "cell_type": "markdown",
   "id": "ee8f3c9a",
   "metadata": {},
   "source": [
    "Нарешті, ще одне завдання. Використовуючи будь-який підхід, який вам до вподоби (звичайні функції, регулярні вирази тощо), спробуйте виділити з колонки гео дані про місто, а в ідеалі ще номер будинку і вулицю. Задача зовсім не легка, тому можете сконцентруватися на Києві, Харкові та Львові. \n",
    "\n",
    "Спробуйте проітеруватися над вашим алгоритмом декілька разів і перевірити, чи адекватні ті дані, які ви отримуєте.\n",
    "І ще одне: тут немає мети виділити правильне місто зі 100% оголошень. У деяких ситуаціях цілком ок принести в жертву деяку кількість записів, якщо алгоритм при цьому буде достатньо простим."
   ]
  },
  {
   "cell_type": "code",
   "execution_count": 152,
   "id": "000ef787",
   "metadata": {},
   "outputs": [
    {
     "ename": "AttributeError",
     "evalue": "'Series' object has no attribute 'split'",
     "output_type": "error",
     "traceback": [
      "\u001b[31m---------------------------------------------------------------------------\u001b[39m",
      "\u001b[31mAttributeError\u001b[39m                            Traceback (most recent call last)",
      "\u001b[32m~\\AppData\\Local\\Temp\\ipykernel_12536\\2279947000.py\u001b[39m in \u001b[36m?\u001b[39m\u001b[34m()\u001b[39m\n\u001b[32m      7\u001b[39m         \u001b[38;5;28;01mreturn\u001b[39;00m geo[idx]\n\u001b[32m      8\u001b[39m     \u001b[38;5;28;01melse\u001b[39;00m:\n\u001b[32m      9\u001b[39m         \u001b[38;5;28;01mreturn\u001b[39;00m \u001b[38;5;28;01mNone\u001b[39;00m\n\u001b[32m     10\u001b[39m \n\u001b[32m---> \u001b[39m\u001b[32m11\u001b[39m df_result[\u001b[33m\"city\"\u001b[39m] = df_result.apply(\u001b[38;5;28;01mlambda\u001b[39;00m x: extract_data(x,\u001b[32m1\u001b[39m), axis=\u001b[32m1\u001b[39m)\n\u001b[32m     12\u001b[39m df_result[\u001b[33m\"street\"\u001b[39m] = df_result.apply(\u001b[38;5;28;01mlambda\u001b[39;00m x: extract_data(x, \u001b[32m3\u001b[39m), axis=\u001b[32m1\u001b[39m)\n\u001b[32m     13\u001b[39m df_result[\u001b[33m\"number\"\u001b[39m] = df_result.apply(\u001b[38;5;28;01mlambda\u001b[39;00m x: extract_data(x, \u001b[32m4\u001b[39m), axis=\u001b[32m1\u001b[39m)\n\u001b[32m     14\u001b[39m df_result[\u001b[33m\"city\"\u001b[39m].unique()\n",
      "\u001b[32mc:\\Users\\MSI_PC\\AppData\\Local\\Programs\\Python\\Python313\\Lib\\site-packages\\pandas\\core\\frame.py\u001b[39m in \u001b[36m?\u001b[39m\u001b[34m(self, func, axis, raw, result_type, args, by_row, engine, engine_kwargs, **kwargs)\u001b[39m\n\u001b[32m  10370\u001b[39m             engine_kwargs=engine_kwargs,\n\u001b[32m  10371\u001b[39m             args=args,\n\u001b[32m  10372\u001b[39m             kwargs=kwargs,\n\u001b[32m  10373\u001b[39m         )\n\u001b[32m> \u001b[39m\u001b[32m10374\u001b[39m         \u001b[38;5;28;01mreturn\u001b[39;00m op.apply().__finalize__(self, method=\u001b[33m\"apply\"\u001b[39m)\n",
      "\u001b[32mc:\\Users\\MSI_PC\\AppData\\Local\\Programs\\Python\\Python313\\Lib\\site-packages\\pandas\\core\\apply.py\u001b[39m in \u001b[36m?\u001b[39m\u001b[34m(self)\u001b[39m\n\u001b[32m    912\u001b[39m         \u001b[38;5;66;03m# raw\u001b[39;00m\n\u001b[32m    913\u001b[39m         \u001b[38;5;28;01melif\u001b[39;00m self.raw:\n\u001b[32m    914\u001b[39m             \u001b[38;5;28;01mreturn\u001b[39;00m self.apply_raw(engine=self.engine, engine_kwargs=self.engine_kwargs)\n\u001b[32m    915\u001b[39m \n\u001b[32m--> \u001b[39m\u001b[32m916\u001b[39m         \u001b[38;5;28;01mreturn\u001b[39;00m self.apply_standard()\n",
      "\u001b[32mc:\\Users\\MSI_PC\\AppData\\Local\\Programs\\Python\\Python313\\Lib\\site-packages\\pandas\\core\\apply.py\u001b[39m in \u001b[36m?\u001b[39m\u001b[34m(self)\u001b[39m\n\u001b[32m   1061\u001b[39m     \u001b[38;5;28;01mdef\u001b[39;00m apply_standard(self):\n\u001b[32m   1062\u001b[39m         \u001b[38;5;28;01mif\u001b[39;00m self.engine == \u001b[33m\"python\"\u001b[39m:\n\u001b[32m-> \u001b[39m\u001b[32m1063\u001b[39m             results, res_index = self.apply_series_generator()\n\u001b[32m   1064\u001b[39m         \u001b[38;5;28;01melse\u001b[39;00m:\n\u001b[32m   1065\u001b[39m             results, res_index = self.apply_series_numba()\n\u001b[32m   1066\u001b[39m \n",
      "\u001b[32mc:\\Users\\MSI_PC\\AppData\\Local\\Programs\\Python\\Python313\\Lib\\site-packages\\pandas\\core\\apply.py\u001b[39m in \u001b[36m?\u001b[39m\u001b[34m(self)\u001b[39m\n\u001b[32m   1077\u001b[39m \n\u001b[32m   1078\u001b[39m         \u001b[38;5;28;01mwith\u001b[39;00m option_context(\u001b[33m\"mode.chained_assignment\"\u001b[39m, \u001b[38;5;28;01mNone\u001b[39;00m):\n\u001b[32m   1079\u001b[39m             \u001b[38;5;28;01mfor\u001b[39;00m i, v \u001b[38;5;28;01min\u001b[39;00m enumerate(series_gen):\n\u001b[32m   1080\u001b[39m                 \u001b[38;5;66;03m# ignore SettingWithCopy here in case the user mutates\u001b[39;00m\n\u001b[32m-> \u001b[39m\u001b[32m1081\u001b[39m                 results[i] = self.func(v, *self.args, **self.kwargs)\n\u001b[32m   1082\u001b[39m                 \u001b[38;5;28;01mif\u001b[39;00m isinstance(results[i], ABCSeries):\n\u001b[32m   1083\u001b[39m                     \u001b[38;5;66;03m# If we have a view on v, we need to make a copy because\u001b[39;00m\n\u001b[32m   1084\u001b[39m                     \u001b[38;5;66;03m#  series_generator will swap out the underlying data\u001b[39;00m\n",
      "\u001b[32m~\\AppData\\Local\\Temp\\ipykernel_12536\\2279947000.py\u001b[39m in \u001b[36m?\u001b[39m\u001b[34m(x)\u001b[39m\n\u001b[32m---> \u001b[39m\u001b[32m11\u001b[39m df_result[\u001b[33m\"city\"\u001b[39m] = df_result.apply(\u001b[38;5;28;01mlambda\u001b[39;00m x: extract_data(x,\u001b[32m1\u001b[39m), axis=\u001b[32m1\u001b[39m)\n",
      "\u001b[32m~\\AppData\\Local\\Temp\\ipykernel_12536\\2279947000.py\u001b[39m in \u001b[36m?\u001b[39m\u001b[34m(row, idx)\u001b[39m\n\u001b[32m      3\u001b[39m \u001b[38;5;28;01mdef\u001b[39;00m extract_data(row:str, idx):\n\u001b[32m      4\u001b[39m     geo = row[\u001b[33m\"geo\"\u001b[39m].split(\u001b[33m','\u001b[39m)\n\u001b[32m----> \u001b[39m\u001b[32m5\u001b[39m     row = row.split(\u001b[33m','\u001b[39m)\n\u001b[32m      6\u001b[39m     \u001b[38;5;28;01mif\u001b[39;00m len(geo) > idx:\n\u001b[32m      7\u001b[39m         \u001b[38;5;28;01mreturn\u001b[39;00m geo[idx]\n\u001b[32m      8\u001b[39m     \u001b[38;5;28;01melse\u001b[39;00m:\n",
      "\u001b[32mc:\\Users\\MSI_PC\\AppData\\Local\\Programs\\Python\\Python313\\Lib\\site-packages\\pandas\\core\\generic.py\u001b[39m in \u001b[36m?\u001b[39m\u001b[34m(self, name)\u001b[39m\n\u001b[32m   6295\u001b[39m             \u001b[38;5;28;01mand\u001b[39;00m name \u001b[38;5;28;01mnot\u001b[39;00m \u001b[38;5;28;01min\u001b[39;00m self._accessors\n\u001b[32m   6296\u001b[39m             \u001b[38;5;28;01mand\u001b[39;00m self._info_axis._can_hold_identifiers_and_holds_name(name)\n\u001b[32m   6297\u001b[39m         ):\n\u001b[32m   6298\u001b[39m             \u001b[38;5;28;01mreturn\u001b[39;00m self[name]\n\u001b[32m-> \u001b[39m\u001b[32m6299\u001b[39m         \u001b[38;5;28;01mreturn\u001b[39;00m object.__getattribute__(self, name)\n",
      "\u001b[31mAttributeError\u001b[39m: 'Series' object has no attribute 'split'"
     ]
    }
   ],
   "source": [
    "# df_result[\"geo\"].iloc[1].split(',')\n",
    "\n",
    "def extract_data(row:str, idx):\n",
    "    geo = row[\"geo\"].split(',')\n",
    "    row = row.split(',')\n",
    "    if len(geo) > idx:\n",
    "        return geo[idx]\n",
    "    else:\n",
    "        return None\n",
    "    \n",
    "df_result[\"city\"] = df_result.apply(lambda x: extract_data(x,1), axis=1)\n",
    "df_result[\"street\"] = df_result.apply(lambda x: extract_data(x, 3), axis=1)\n",
    "df_result[\"number\"] = df_result.apply(lambda x: extract_data(x, 4), axis=1)\n",
    "df_result[\"city\"].unique()"
   ]
  }
 ],
 "metadata": {
  "kernelspec": {
   "display_name": "Python 3",
   "language": "python",
   "name": "python3"
  },
  "language_info": {
   "codemirror_mode": {
    "name": "ipython",
    "version": 3
   },
   "file_extension": ".py",
   "mimetype": "text/x-python",
   "name": "python",
   "nbconvert_exporter": "python",
   "pygments_lexer": "ipython3",
   "version": "3.13.3"
  }
 },
 "nbformat": 4,
 "nbformat_minor": 5
}
