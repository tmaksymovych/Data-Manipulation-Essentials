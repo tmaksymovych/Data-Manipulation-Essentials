{
 "cells": [
  {
   "cell_type": "markdown",
   "id": "34a32947-61a0-493c-87a9-865ee4ef500e",
   "metadata": {},
   "source": [
    "## Воркшоп #3: Робота з Pandas, обʼєднання і агрегація даних"
   ]
  },
  {
   "cell_type": "markdown",
   "id": "c6f05a79-e8b6-42e8-a33a-ea30d4561f76",
   "metadata": {},
   "source": [
    "Цей воркшоп виконує..."
   ]
  },
  {
   "cell_type": "raw",
   "id": "07eecb18-33d0-48a5-895d-454d120b2039",
   "metadata": {
    "vscode": {
     "languageId": "raw"
    }
   },
   "source": [
    "Тимур Максимович"
   ]
  },
  {
   "cell_type": "markdown",
   "id": "9d4e3b95-8a98-44b3-8ba0-0d12dcb1b3e3",
   "metadata": {},
   "source": [
    "Почнемо! \n",
    "Перш за все, зчитайте 4 набори даних: `courses.csv`, `enrollment.csv`, `instructors.csv` та `students_v2.csv` та запишіть їх у змінні `courses`, `enrollment`, `instructors`, `students` відповідно. Обовʼязково перевірте, що дані відповідають очікуванням."
   ]
  },
  {
   "cell_type": "code",
   "execution_count": 2,
   "id": "1238e8b3-0966-458f-934c-362ab86f539e",
   "metadata": {
    "ExecuteTime": {
     "end_time": "2024-05-28T16:02:06.360432Z",
     "start_time": "2024-05-28T16:02:06.356211Z"
    }
   },
   "outputs": [],
   "source": [
    "import pandas as pd"
   ]
  },
  {
   "cell_type": "code",
   "execution_count": 3,
   "id": "3f7ba536-e9ff-47c1-87d6-185d521abe25",
   "metadata": {
    "ExecuteTime": {
     "end_time": "2024-05-28T17:01:18.132404Z",
     "start_time": "2024-05-28T17:01:18.110717Z"
    }
   },
   "outputs": [
    {
     "ename": "FileNotFoundError",
     "evalue": "[Errno 2] No such file or directory: 'courses.csv'",
     "output_type": "error",
     "traceback": [
      "\u001b[31m---------------------------------------------------------------------------\u001b[39m",
      "\u001b[31mFileNotFoundError\u001b[39m                         Traceback (most recent call last)",
      "\u001b[36mCell\u001b[39m\u001b[36m \u001b[39m\u001b[32mIn[3]\u001b[39m\u001b[32m, line 1\u001b[39m\n\u001b[32m----> \u001b[39m\u001b[32m1\u001b[39m courses = \u001b[43mpd\u001b[49m\u001b[43m.\u001b[49m\u001b[43mread_csv\u001b[49m\u001b[43m(\u001b[49m\u001b[33;43m\"\u001b[39;49m\u001b[33;43mcourses.csv\u001b[39;49m\u001b[33;43m\"\u001b[39;49m\u001b[43m,\u001b[49m\u001b[43m \u001b[49m\u001b[43mdelimiter\u001b[49m\u001b[43m=\u001b[49m\u001b[43m \u001b[49m\u001b[33;43m\"\u001b[39;49m\u001b[33;43m,\u001b[39;49m\u001b[33;43m\"\u001b[39;49m\u001b[43m)\u001b[49m\n\u001b[32m      2\u001b[39m enrollment = pd.read_csv(\u001b[33m\"\u001b[39m\u001b[33menrollment.csv\u001b[39m\u001b[33m\"\u001b[39m, delimiter=\u001b[33m\"\u001b[39m\u001b[33m,\u001b[39m\u001b[33m\"\u001b[39m)\n\u001b[32m      3\u001b[39m instructors = pd.read_csv(\u001b[33m\"\u001b[39m\u001b[33minstructors.csv\u001b[39m\u001b[33m\"\u001b[39m, delimiter=\u001b[33m\"\u001b[39m\u001b[33m,\u001b[39m\u001b[33m\"\u001b[39m)\n",
      "\u001b[36mFile \u001b[39m\u001b[32mc:\\Users\\MSI_PC\\AppData\\Local\\Programs\\Python\\Python313\\Lib\\site-packages\\pandas\\io\\parsers\\readers.py:1026\u001b[39m, in \u001b[36mread_csv\u001b[39m\u001b[34m(filepath_or_buffer, sep, delimiter, header, names, index_col, usecols, dtype, engine, converters, true_values, false_values, skipinitialspace, skiprows, skipfooter, nrows, na_values, keep_default_na, na_filter, verbose, skip_blank_lines, parse_dates, infer_datetime_format, keep_date_col, date_parser, date_format, dayfirst, cache_dates, iterator, chunksize, compression, thousands, decimal, lineterminator, quotechar, quoting, doublequote, escapechar, comment, encoding, encoding_errors, dialect, on_bad_lines, delim_whitespace, low_memory, memory_map, float_precision, storage_options, dtype_backend)\u001b[39m\n\u001b[32m   1013\u001b[39m kwds_defaults = _refine_defaults_read(\n\u001b[32m   1014\u001b[39m     dialect,\n\u001b[32m   1015\u001b[39m     delimiter,\n\u001b[32m   (...)\u001b[39m\u001b[32m   1022\u001b[39m     dtype_backend=dtype_backend,\n\u001b[32m   1023\u001b[39m )\n\u001b[32m   1024\u001b[39m kwds.update(kwds_defaults)\n\u001b[32m-> \u001b[39m\u001b[32m1026\u001b[39m \u001b[38;5;28;01mreturn\u001b[39;00m \u001b[43m_read\u001b[49m\u001b[43m(\u001b[49m\u001b[43mfilepath_or_buffer\u001b[49m\u001b[43m,\u001b[49m\u001b[43m \u001b[49m\u001b[43mkwds\u001b[49m\u001b[43m)\u001b[49m\n",
      "\u001b[36mFile \u001b[39m\u001b[32mc:\\Users\\MSI_PC\\AppData\\Local\\Programs\\Python\\Python313\\Lib\\site-packages\\pandas\\io\\parsers\\readers.py:620\u001b[39m, in \u001b[36m_read\u001b[39m\u001b[34m(filepath_or_buffer, kwds)\u001b[39m\n\u001b[32m    617\u001b[39m _validate_names(kwds.get(\u001b[33m\"\u001b[39m\u001b[33mnames\u001b[39m\u001b[33m\"\u001b[39m, \u001b[38;5;28;01mNone\u001b[39;00m))\n\u001b[32m    619\u001b[39m \u001b[38;5;66;03m# Create the parser.\u001b[39;00m\n\u001b[32m--> \u001b[39m\u001b[32m620\u001b[39m parser = \u001b[43mTextFileReader\u001b[49m\u001b[43m(\u001b[49m\u001b[43mfilepath_or_buffer\u001b[49m\u001b[43m,\u001b[49m\u001b[43m \u001b[49m\u001b[43m*\u001b[49m\u001b[43m*\u001b[49m\u001b[43mkwds\u001b[49m\u001b[43m)\u001b[49m\n\u001b[32m    622\u001b[39m \u001b[38;5;28;01mif\u001b[39;00m chunksize \u001b[38;5;129;01mor\u001b[39;00m iterator:\n\u001b[32m    623\u001b[39m     \u001b[38;5;28;01mreturn\u001b[39;00m parser\n",
      "\u001b[36mFile \u001b[39m\u001b[32mc:\\Users\\MSI_PC\\AppData\\Local\\Programs\\Python\\Python313\\Lib\\site-packages\\pandas\\io\\parsers\\readers.py:1620\u001b[39m, in \u001b[36mTextFileReader.__init__\u001b[39m\u001b[34m(self, f, engine, **kwds)\u001b[39m\n\u001b[32m   1617\u001b[39m     \u001b[38;5;28mself\u001b[39m.options[\u001b[33m\"\u001b[39m\u001b[33mhas_index_names\u001b[39m\u001b[33m\"\u001b[39m] = kwds[\u001b[33m\"\u001b[39m\u001b[33mhas_index_names\u001b[39m\u001b[33m\"\u001b[39m]\n\u001b[32m   1619\u001b[39m \u001b[38;5;28mself\u001b[39m.handles: IOHandles | \u001b[38;5;28;01mNone\u001b[39;00m = \u001b[38;5;28;01mNone\u001b[39;00m\n\u001b[32m-> \u001b[39m\u001b[32m1620\u001b[39m \u001b[38;5;28mself\u001b[39m._engine = \u001b[38;5;28;43mself\u001b[39;49m\u001b[43m.\u001b[49m\u001b[43m_make_engine\u001b[49m\u001b[43m(\u001b[49m\u001b[43mf\u001b[49m\u001b[43m,\u001b[49m\u001b[43m \u001b[49m\u001b[38;5;28;43mself\u001b[39;49m\u001b[43m.\u001b[49m\u001b[43mengine\u001b[49m\u001b[43m)\u001b[49m\n",
      "\u001b[36mFile \u001b[39m\u001b[32mc:\\Users\\MSI_PC\\AppData\\Local\\Programs\\Python\\Python313\\Lib\\site-packages\\pandas\\io\\parsers\\readers.py:1880\u001b[39m, in \u001b[36mTextFileReader._make_engine\u001b[39m\u001b[34m(self, f, engine)\u001b[39m\n\u001b[32m   1878\u001b[39m     \u001b[38;5;28;01mif\u001b[39;00m \u001b[33m\"\u001b[39m\u001b[33mb\u001b[39m\u001b[33m\"\u001b[39m \u001b[38;5;129;01mnot\u001b[39;00m \u001b[38;5;129;01min\u001b[39;00m mode:\n\u001b[32m   1879\u001b[39m         mode += \u001b[33m\"\u001b[39m\u001b[33mb\u001b[39m\u001b[33m\"\u001b[39m\n\u001b[32m-> \u001b[39m\u001b[32m1880\u001b[39m \u001b[38;5;28mself\u001b[39m.handles = \u001b[43mget_handle\u001b[49m\u001b[43m(\u001b[49m\n\u001b[32m   1881\u001b[39m \u001b[43m    \u001b[49m\u001b[43mf\u001b[49m\u001b[43m,\u001b[49m\n\u001b[32m   1882\u001b[39m \u001b[43m    \u001b[49m\u001b[43mmode\u001b[49m\u001b[43m,\u001b[49m\n\u001b[32m   1883\u001b[39m \u001b[43m    \u001b[49m\u001b[43mencoding\u001b[49m\u001b[43m=\u001b[49m\u001b[38;5;28;43mself\u001b[39;49m\u001b[43m.\u001b[49m\u001b[43moptions\u001b[49m\u001b[43m.\u001b[49m\u001b[43mget\u001b[49m\u001b[43m(\u001b[49m\u001b[33;43m\"\u001b[39;49m\u001b[33;43mencoding\u001b[39;49m\u001b[33;43m\"\u001b[39;49m\u001b[43m,\u001b[49m\u001b[43m \u001b[49m\u001b[38;5;28;43;01mNone\u001b[39;49;00m\u001b[43m)\u001b[49m\u001b[43m,\u001b[49m\n\u001b[32m   1884\u001b[39m \u001b[43m    \u001b[49m\u001b[43mcompression\u001b[49m\u001b[43m=\u001b[49m\u001b[38;5;28;43mself\u001b[39;49m\u001b[43m.\u001b[49m\u001b[43moptions\u001b[49m\u001b[43m.\u001b[49m\u001b[43mget\u001b[49m\u001b[43m(\u001b[49m\u001b[33;43m\"\u001b[39;49m\u001b[33;43mcompression\u001b[39;49m\u001b[33;43m\"\u001b[39;49m\u001b[43m,\u001b[49m\u001b[43m \u001b[49m\u001b[38;5;28;43;01mNone\u001b[39;49;00m\u001b[43m)\u001b[49m\u001b[43m,\u001b[49m\n\u001b[32m   1885\u001b[39m \u001b[43m    \u001b[49m\u001b[43mmemory_map\u001b[49m\u001b[43m=\u001b[49m\u001b[38;5;28;43mself\u001b[39;49m\u001b[43m.\u001b[49m\u001b[43moptions\u001b[49m\u001b[43m.\u001b[49m\u001b[43mget\u001b[49m\u001b[43m(\u001b[49m\u001b[33;43m\"\u001b[39;49m\u001b[33;43mmemory_map\u001b[39;49m\u001b[33;43m\"\u001b[39;49m\u001b[43m,\u001b[49m\u001b[43m \u001b[49m\u001b[38;5;28;43;01mFalse\u001b[39;49;00m\u001b[43m)\u001b[49m\u001b[43m,\u001b[49m\n\u001b[32m   1886\u001b[39m \u001b[43m    \u001b[49m\u001b[43mis_text\u001b[49m\u001b[43m=\u001b[49m\u001b[43mis_text\u001b[49m\u001b[43m,\u001b[49m\n\u001b[32m   1887\u001b[39m \u001b[43m    \u001b[49m\u001b[43merrors\u001b[49m\u001b[43m=\u001b[49m\u001b[38;5;28;43mself\u001b[39;49m\u001b[43m.\u001b[49m\u001b[43moptions\u001b[49m\u001b[43m.\u001b[49m\u001b[43mget\u001b[49m\u001b[43m(\u001b[49m\u001b[33;43m\"\u001b[39;49m\u001b[33;43mencoding_errors\u001b[39;49m\u001b[33;43m\"\u001b[39;49m\u001b[43m,\u001b[49m\u001b[43m \u001b[49m\u001b[33;43m\"\u001b[39;49m\u001b[33;43mstrict\u001b[39;49m\u001b[33;43m\"\u001b[39;49m\u001b[43m)\u001b[49m\u001b[43m,\u001b[49m\n\u001b[32m   1888\u001b[39m \u001b[43m    \u001b[49m\u001b[43mstorage_options\u001b[49m\u001b[43m=\u001b[49m\u001b[38;5;28;43mself\u001b[39;49m\u001b[43m.\u001b[49m\u001b[43moptions\u001b[49m\u001b[43m.\u001b[49m\u001b[43mget\u001b[49m\u001b[43m(\u001b[49m\u001b[33;43m\"\u001b[39;49m\u001b[33;43mstorage_options\u001b[39;49m\u001b[33;43m\"\u001b[39;49m\u001b[43m,\u001b[49m\u001b[43m \u001b[49m\u001b[38;5;28;43;01mNone\u001b[39;49;00m\u001b[43m)\u001b[49m\u001b[43m,\u001b[49m\n\u001b[32m   1889\u001b[39m \u001b[43m\u001b[49m\u001b[43m)\u001b[49m\n\u001b[32m   1890\u001b[39m \u001b[38;5;28;01massert\u001b[39;00m \u001b[38;5;28mself\u001b[39m.handles \u001b[38;5;129;01mis\u001b[39;00m \u001b[38;5;129;01mnot\u001b[39;00m \u001b[38;5;28;01mNone\u001b[39;00m\n\u001b[32m   1891\u001b[39m f = \u001b[38;5;28mself\u001b[39m.handles.handle\n",
      "\u001b[36mFile \u001b[39m\u001b[32mc:\\Users\\MSI_PC\\AppData\\Local\\Programs\\Python\\Python313\\Lib\\site-packages\\pandas\\io\\common.py:873\u001b[39m, in \u001b[36mget_handle\u001b[39m\u001b[34m(path_or_buf, mode, encoding, compression, memory_map, is_text, errors, storage_options)\u001b[39m\n\u001b[32m    868\u001b[39m \u001b[38;5;28;01melif\u001b[39;00m \u001b[38;5;28misinstance\u001b[39m(handle, \u001b[38;5;28mstr\u001b[39m):\n\u001b[32m    869\u001b[39m     \u001b[38;5;66;03m# Check whether the filename is to be opened in binary mode.\u001b[39;00m\n\u001b[32m    870\u001b[39m     \u001b[38;5;66;03m# Binary mode does not support 'encoding' and 'newline'.\u001b[39;00m\n\u001b[32m    871\u001b[39m     \u001b[38;5;28;01mif\u001b[39;00m ioargs.encoding \u001b[38;5;129;01mand\u001b[39;00m \u001b[33m\"\u001b[39m\u001b[33mb\u001b[39m\u001b[33m\"\u001b[39m \u001b[38;5;129;01mnot\u001b[39;00m \u001b[38;5;129;01min\u001b[39;00m ioargs.mode:\n\u001b[32m    872\u001b[39m         \u001b[38;5;66;03m# Encoding\u001b[39;00m\n\u001b[32m--> \u001b[39m\u001b[32m873\u001b[39m         handle = \u001b[38;5;28;43mopen\u001b[39;49m\u001b[43m(\u001b[49m\n\u001b[32m    874\u001b[39m \u001b[43m            \u001b[49m\u001b[43mhandle\u001b[49m\u001b[43m,\u001b[49m\n\u001b[32m    875\u001b[39m \u001b[43m            \u001b[49m\u001b[43mioargs\u001b[49m\u001b[43m.\u001b[49m\u001b[43mmode\u001b[49m\u001b[43m,\u001b[49m\n\u001b[32m    876\u001b[39m \u001b[43m            \u001b[49m\u001b[43mencoding\u001b[49m\u001b[43m=\u001b[49m\u001b[43mioargs\u001b[49m\u001b[43m.\u001b[49m\u001b[43mencoding\u001b[49m\u001b[43m,\u001b[49m\n\u001b[32m    877\u001b[39m \u001b[43m            \u001b[49m\u001b[43merrors\u001b[49m\u001b[43m=\u001b[49m\u001b[43merrors\u001b[49m\u001b[43m,\u001b[49m\n\u001b[32m    878\u001b[39m \u001b[43m            \u001b[49m\u001b[43mnewline\u001b[49m\u001b[43m=\u001b[49m\u001b[33;43m\"\u001b[39;49m\u001b[33;43m\"\u001b[39;49m\u001b[43m,\u001b[49m\n\u001b[32m    879\u001b[39m \u001b[43m        \u001b[49m\u001b[43m)\u001b[49m\n\u001b[32m    880\u001b[39m     \u001b[38;5;28;01melse\u001b[39;00m:\n\u001b[32m    881\u001b[39m         \u001b[38;5;66;03m# Binary mode\u001b[39;00m\n\u001b[32m    882\u001b[39m         handle = \u001b[38;5;28mopen\u001b[39m(handle, ioargs.mode)\n",
      "\u001b[31mFileNotFoundError\u001b[39m: [Errno 2] No such file or directory: 'courses.csv'"
     ]
    }
   ],
   "source": [
    "courses = pd.read_csv(\"courses.csv\", delimiter= \",\")\n",
    "enrollment = pd.read_csv(\"enrollment.csv\", delimiter=\",\")\n",
    "instructors = pd.read_csv(\"instructors.csv\", delimiter=\",\")\n",
    "students = pd.read_csv(\"students_v2.csv\", delimiter=\",\")"
   ]
  },
  {
   "cell_type": "code",
   "execution_count": 44,
   "id": "46e8a9f3",
   "metadata": {},
   "outputs": [
    {
     "name": "stdout",
     "output_type": "stream",
     "text": [
      "Index(['Student_ID', 'Name', 'Age', 'Faculty', 'Major', 'GPA', 'Start_Date',\n",
      "       'First_semester'],\n",
      "      dtype='object')\n"
     ]
    }
   ],
   "source": [
    "print(students.columns)"
   ]
  },
  {
   "cell_type": "code",
   "execution_count": 45,
   "id": "b90023ab",
   "metadata": {},
   "outputs": [
    {
     "name": "stdout",
     "output_type": "stream",
     "text": [
      "Index(['Course_ID', 'Course_Name', 'Faculty', 'Credits', 'Instructor'], dtype='object')\n"
     ]
    }
   ],
   "source": [
    "print(courses.columns)"
   ]
  },
  {
   "cell_type": "code",
   "execution_count": 46,
   "id": "29c6f1af",
   "metadata": {},
   "outputs": [
    {
     "name": "stdout",
     "output_type": "stream",
     "text": [
      "Index(['Enrollment_ID', 'Student_ID', 'Course_ID', 'First_semester', 'Grade'], dtype='object')\n"
     ]
    }
   ],
   "source": [
    "print(enrollment.columns)"
   ]
  },
  {
   "cell_type": "markdown",
   "id": "6d69b1199721eab2",
   "metadata": {},
   "source": [
    "Тепер, коли ми маємо усі дані на руках, давайте спробуємо їх обʼєднати. Використайте `pd.merge`, щоб обʼєднати студентів з тими курсами, які вони брали.\n",
    "\n",
    "Обовʼязково зверніть увагу на ключі, за якими ви обʼєднуєте дані! \"Природнє\" зʼєднання тут не прокатить, здогадаєтесь, чому? \n",
    " "
   ]
  },
  {
   "cell_type": "code",
   "execution_count": 1,
   "id": "5076f09143f3c861",
   "metadata": {
    "ExecuteTime": {
     "end_time": "2024-05-28T16:25:14.226055Z",
     "start_time": "2024-05-28T16:25:14.207285Z"
    }
   },
   "outputs": [
    {
     "ename": "NameError",
     "evalue": "name 'pd' is not defined",
     "output_type": "error",
     "traceback": [
      "\u001b[31m---------------------------------------------------------------------------\u001b[39m",
      "\u001b[31mNameError\u001b[39m                                 Traceback (most recent call last)",
      "\u001b[36mCell\u001b[39m\u001b[36m \u001b[39m\u001b[32mIn[1]\u001b[39m\u001b[32m, line 1\u001b[39m\n\u001b[32m----> \u001b[39m\u001b[32m1\u001b[39m df = \u001b[43mpd\u001b[49m.merge(students, enrollment, how=\u001b[33m\"\u001b[39m\u001b[33minner\u001b[39m\u001b[33m\"\u001b[39m, right_on=\u001b[33m\"\u001b[39m\u001b[33mCourse_ID\u001b[39m\u001b[33m\"\u001b[39m)\n",
      "\u001b[31mNameError\u001b[39m: name 'pd' is not defined"
     ]
    }
   ],
   "source": [
    "df = pd.merge(students, enrollment, how=\"inner\", right_on=\"Course_ID\")"
   ]
  },
  {
   "cell_type": "code",
   "execution_count": 41,
   "id": "3de21988",
   "metadata": {},
   "outputs": [
    {
     "data": {
      "text/html": [
       "<div>\n",
       "<style scoped>\n",
       "    .dataframe tbody tr th:only-of-type {\n",
       "        vertical-align: middle;\n",
       "    }\n",
       "\n",
       "    .dataframe tbody tr th {\n",
       "        vertical-align: top;\n",
       "    }\n",
       "\n",
       "    .dataframe thead th {\n",
       "        text-align: right;\n",
       "    }\n",
       "</style>\n",
       "<table border=\"1\" class=\"dataframe\">\n",
       "  <thead>\n",
       "    <tr style=\"text-align: right;\">\n",
       "      <th></th>\n",
       "      <th>Student_ID</th>\n",
       "      <th>Name_x</th>\n",
       "      <th>Age</th>\n",
       "      <th>Faculty_x</th>\n",
       "      <th>Major</th>\n",
       "      <th>GPA</th>\n",
       "      <th>Start_Date</th>\n",
       "      <th>First_semester_x</th>\n",
       "      <th>Enrollment_ID</th>\n",
       "      <th>Course_ID</th>\n",
       "      <th>First_semester_y</th>\n",
       "      <th>Grade</th>\n",
       "      <th>Course_Name</th>\n",
       "      <th>Faculty_y</th>\n",
       "      <th>Credits</th>\n",
       "      <th>Instructor</th>\n",
       "      <th>Instructor_ID</th>\n",
       "      <th>Name_y</th>\n",
       "      <th>Faculty</th>\n",
       "      <th>Email</th>\n",
       "    </tr>\n",
       "  </thead>\n",
       "  <tbody>\n",
       "    <tr>\n",
       "      <th>0</th>\n",
       "      <td>UEPE0</td>\n",
       "      <td>Kelly Greene</td>\n",
       "      <td>19</td>\n",
       "      <td>Law</td>\n",
       "      <td>Environmental</td>\n",
       "      <td>2.91</td>\n",
       "      <td>2020-01-20</td>\n",
       "      <td>Spring 2020</td>\n",
       "      <td>1KEUI</td>\n",
       "      <td>1EKBM</td>\n",
       "      <td>Fall 2021</td>\n",
       "      <td>F</td>\n",
       "      <td>World History</td>\n",
       "      <td>Arts</td>\n",
       "      <td>4</td>\n",
       "      <td>Angela Thompson</td>\n",
       "      <td>SHHID</td>\n",
       "      <td>Angela Thompson</td>\n",
       "      <td>Arts</td>\n",
       "      <td>angela.thompson@univer.sity</td>\n",
       "    </tr>\n",
       "    <tr>\n",
       "      <th>1</th>\n",
       "      <td>C15ED</td>\n",
       "      <td>Joseph George</td>\n",
       "      <td>20</td>\n",
       "      <td>Medicine</td>\n",
       "      <td>General</td>\n",
       "      <td>2.79</td>\n",
       "      <td>2023-07-04</td>\n",
       "      <td>Summer 2023</td>\n",
       "      <td>BYB6X</td>\n",
       "      <td>1GBT1</td>\n",
       "      <td>Fall 2020</td>\n",
       "      <td>A</td>\n",
       "      <td>Constitutional Law</td>\n",
       "      <td>Law</td>\n",
       "      <td>5</td>\n",
       "      <td>Jeffrey Collins</td>\n",
       "      <td>I3AH7</td>\n",
       "      <td>Jeffrey Collins</td>\n",
       "      <td>Law</td>\n",
       "      <td>jeffrey.collins@univer.sity</td>\n",
       "    </tr>\n",
       "    <tr>\n",
       "      <th>2</th>\n",
       "      <td>C15ED</td>\n",
       "      <td>Joseph George</td>\n",
       "      <td>20</td>\n",
       "      <td>Medicine</td>\n",
       "      <td>General</td>\n",
       "      <td>2.79</td>\n",
       "      <td>2023-07-04</td>\n",
       "      <td>Summer 2023</td>\n",
       "      <td>9ZSI3</td>\n",
       "      <td>ZTEEQ</td>\n",
       "      <td>Fall 2021</td>\n",
       "      <td>C</td>\n",
       "      <td>Anatomy</td>\n",
       "      <td>Medicine</td>\n",
       "      <td>4</td>\n",
       "      <td>Lisa Scott</td>\n",
       "      <td>HOFLI</td>\n",
       "      <td>Lisa Scott</td>\n",
       "      <td>Medicine</td>\n",
       "      <td>lisa.scott@univer.sity</td>\n",
       "    </tr>\n",
       "    <tr>\n",
       "      <th>3</th>\n",
       "      <td>C15ED</td>\n",
       "      <td>Joseph George</td>\n",
       "      <td>20</td>\n",
       "      <td>Medicine</td>\n",
       "      <td>General</td>\n",
       "      <td>2.79</td>\n",
       "      <td>2023-07-04</td>\n",
       "      <td>Summer 2023</td>\n",
       "      <td>L5Q5V</td>\n",
       "      <td>HNU9L</td>\n",
       "      <td>Spring 2023</td>\n",
       "      <td>F</td>\n",
       "      <td>Quantum Physics</td>\n",
       "      <td>Science</td>\n",
       "      <td>5</td>\n",
       "      <td>Henry Graves</td>\n",
       "      <td>2K4JD</td>\n",
       "      <td>Henry Graves</td>\n",
       "      <td>Science</td>\n",
       "      <td>henry.graves@univer.sity</td>\n",
       "    </tr>\n",
       "    <tr>\n",
       "      <th>4</th>\n",
       "      <td>QVQDT</td>\n",
       "      <td>Cynthia Hancock</td>\n",
       "      <td>23</td>\n",
       "      <td>Business</td>\n",
       "      <td>Finance</td>\n",
       "      <td>2.24</td>\n",
       "      <td>2019-07-30</td>\n",
       "      <td>Summer 2019</td>\n",
       "      <td>0JI0A</td>\n",
       "      <td>JLM1K</td>\n",
       "      <td>Spring 2023</td>\n",
       "      <td>A</td>\n",
       "      <td>Statics</td>\n",
       "      <td>Engineering</td>\n",
       "      <td>4</td>\n",
       "      <td>Mary Scott</td>\n",
       "      <td>6C4MF</td>\n",
       "      <td>Mary Scott</td>\n",
       "      <td>Engineering</td>\n",
       "      <td>mary.scott@univer.sity</td>\n",
       "    </tr>\n",
       "    <tr>\n",
       "      <th>...</th>\n",
       "      <td>...</td>\n",
       "      <td>...</td>\n",
       "      <td>...</td>\n",
       "      <td>...</td>\n",
       "      <td>...</td>\n",
       "      <td>...</td>\n",
       "      <td>...</td>\n",
       "      <td>...</td>\n",
       "      <td>...</td>\n",
       "      <td>...</td>\n",
       "      <td>...</td>\n",
       "      <td>...</td>\n",
       "      <td>...</td>\n",
       "      <td>...</td>\n",
       "      <td>...</td>\n",
       "      <td>...</td>\n",
       "      <td>...</td>\n",
       "      <td>...</td>\n",
       "      <td>...</td>\n",
       "      <td>...</td>\n",
       "    </tr>\n",
       "    <tr>\n",
       "      <th>195</th>\n",
       "      <td>N29EW</td>\n",
       "      <td>Paul Morgan</td>\n",
       "      <td>18</td>\n",
       "      <td>Law</td>\n",
       "      <td>Corporate</td>\n",
       "      <td>3.24</td>\n",
       "      <td>2023-08-04</td>\n",
       "      <td>Summer 2023</td>\n",
       "      <td>E0EBH</td>\n",
       "      <td>M6F0D</td>\n",
       "      <td>Spring 2023</td>\n",
       "      <td>B</td>\n",
       "      <td>Pharmacology</td>\n",
       "      <td>Medicine</td>\n",
       "      <td>5</td>\n",
       "      <td>Dana Lopez</td>\n",
       "      <td>8M3RA</td>\n",
       "      <td>Dana Lopez</td>\n",
       "      <td>Medicine</td>\n",
       "      <td>dana.lopez@univer.sity</td>\n",
       "    </tr>\n",
       "    <tr>\n",
       "      <th>196</th>\n",
       "      <td>9O3RS</td>\n",
       "      <td>Michael Bryant</td>\n",
       "      <td>22</td>\n",
       "      <td>Arts</td>\n",
       "      <td>Philosophy</td>\n",
       "      <td>2.33</td>\n",
       "      <td>2020-06-03</td>\n",
       "      <td>Summer 2020</td>\n",
       "      <td>AF8IX</td>\n",
       "      <td>E5TPT</td>\n",
       "      <td>Fall 2021</td>\n",
       "      <td>B</td>\n",
       "      <td>Property Law</td>\n",
       "      <td>Law</td>\n",
       "      <td>3</td>\n",
       "      <td>Megan Ruiz</td>\n",
       "      <td>82EU8</td>\n",
       "      <td>Megan Ruiz</td>\n",
       "      <td>Law</td>\n",
       "      <td>megan.ruiz@univer.sity</td>\n",
       "    </tr>\n",
       "    <tr>\n",
       "      <th>197</th>\n",
       "      <td>9O3RS</td>\n",
       "      <td>Michael Bryant</td>\n",
       "      <td>22</td>\n",
       "      <td>Arts</td>\n",
       "      <td>Philosophy</td>\n",
       "      <td>2.33</td>\n",
       "      <td>2020-06-03</td>\n",
       "      <td>Summer 2020</td>\n",
       "      <td>H17KY</td>\n",
       "      <td>TC1IL</td>\n",
       "      <td>Fall 2021</td>\n",
       "      <td>F</td>\n",
       "      <td>Neuroscience</td>\n",
       "      <td>Medicine</td>\n",
       "      <td>4</td>\n",
       "      <td>Andrew Gaines</td>\n",
       "      <td>1R89R</td>\n",
       "      <td>Andrew Gaines</td>\n",
       "      <td>Medicine</td>\n",
       "      <td>andrew.gaines@univer.sity</td>\n",
       "    </tr>\n",
       "    <tr>\n",
       "      <th>198</th>\n",
       "      <td>E6STQ</td>\n",
       "      <td>Patrick Johnson</td>\n",
       "      <td>18</td>\n",
       "      <td>Business</td>\n",
       "      <td>Finance</td>\n",
       "      <td>2.97</td>\n",
       "      <td>2024-05-09</td>\n",
       "      <td>Spring 2024</td>\n",
       "      <td>51X9B</td>\n",
       "      <td>ZTEEQ</td>\n",
       "      <td>Fall 2021</td>\n",
       "      <td>A</td>\n",
       "      <td>Anatomy</td>\n",
       "      <td>Medicine</td>\n",
       "      <td>4</td>\n",
       "      <td>Lisa Scott</td>\n",
       "      <td>HOFLI</td>\n",
       "      <td>Lisa Scott</td>\n",
       "      <td>Medicine</td>\n",
       "      <td>lisa.scott@univer.sity</td>\n",
       "    </tr>\n",
       "    <tr>\n",
       "      <th>199</th>\n",
       "      <td>E6STQ</td>\n",
       "      <td>Patrick Johnson</td>\n",
       "      <td>18</td>\n",
       "      <td>Business</td>\n",
       "      <td>Finance</td>\n",
       "      <td>2.97</td>\n",
       "      <td>2024-05-09</td>\n",
       "      <td>Spring 2024</td>\n",
       "      <td>VJNG4</td>\n",
       "      <td>0BF6M</td>\n",
       "      <td>Fall 2021</td>\n",
       "      <td>D</td>\n",
       "      <td>Pharmacology</td>\n",
       "      <td>Medicine</td>\n",
       "      <td>3</td>\n",
       "      <td>Karen Hodge</td>\n",
       "      <td>YCJMK</td>\n",
       "      <td>Karen Hodge</td>\n",
       "      <td>Medicine</td>\n",
       "      <td>karen.hodge@univer.sity</td>\n",
       "    </tr>\n",
       "  </tbody>\n",
       "</table>\n",
       "<p>200 rows × 20 columns</p>\n",
       "</div>"
      ],
      "text/plain": [
       "    Student_ID           Name_x  Age Faculty_x          Major   GPA  \\\n",
       "0        UEPE0     Kelly Greene   19       Law  Environmental  2.91   \n",
       "1        C15ED    Joseph George   20  Medicine        General  2.79   \n",
       "2        C15ED    Joseph George   20  Medicine        General  2.79   \n",
       "3        C15ED    Joseph George   20  Medicine        General  2.79   \n",
       "4        QVQDT  Cynthia Hancock   23  Business        Finance  2.24   \n",
       "..         ...              ...  ...       ...            ...   ...   \n",
       "195      N29EW      Paul Morgan   18       Law      Corporate  3.24   \n",
       "196      9O3RS   Michael Bryant   22      Arts     Philosophy  2.33   \n",
       "197      9O3RS   Michael Bryant   22      Arts     Philosophy  2.33   \n",
       "198      E6STQ  Patrick Johnson   18  Business        Finance  2.97   \n",
       "199      E6STQ  Patrick Johnson   18  Business        Finance  2.97   \n",
       "\n",
       "     Start_Date First_semester_x Enrollment_ID Course_ID First_semester_y  \\\n",
       "0    2020-01-20      Spring 2020         1KEUI     1EKBM        Fall 2021   \n",
       "1    2023-07-04      Summer 2023         BYB6X     1GBT1        Fall 2020   \n",
       "2    2023-07-04      Summer 2023         9ZSI3     ZTEEQ        Fall 2021   \n",
       "3    2023-07-04      Summer 2023         L5Q5V     HNU9L      Spring 2023   \n",
       "4    2019-07-30      Summer 2019         0JI0A     JLM1K      Spring 2023   \n",
       "..          ...              ...           ...       ...              ...   \n",
       "195  2023-08-04      Summer 2023         E0EBH     M6F0D      Spring 2023   \n",
       "196  2020-06-03      Summer 2020         AF8IX     E5TPT        Fall 2021   \n",
       "197  2020-06-03      Summer 2020         H17KY     TC1IL        Fall 2021   \n",
       "198  2024-05-09      Spring 2024         51X9B     ZTEEQ        Fall 2021   \n",
       "199  2024-05-09      Spring 2024         VJNG4     0BF6M        Fall 2021   \n",
       "\n",
       "    Grade         Course_Name    Faculty_y  Credits       Instructor  \\\n",
       "0       F       World History         Arts        4  Angela Thompson   \n",
       "1       A  Constitutional Law          Law        5  Jeffrey Collins   \n",
       "2       C             Anatomy     Medicine        4       Lisa Scott   \n",
       "3       F     Quantum Physics      Science        5     Henry Graves   \n",
       "4       A             Statics  Engineering        4       Mary Scott   \n",
       "..    ...                 ...          ...      ...              ...   \n",
       "195     B        Pharmacology     Medicine        5       Dana Lopez   \n",
       "196     B        Property Law          Law        3       Megan Ruiz   \n",
       "197     F        Neuroscience     Medicine        4    Andrew Gaines   \n",
       "198     A             Anatomy     Medicine        4       Lisa Scott   \n",
       "199     D        Pharmacology     Medicine        3      Karen Hodge   \n",
       "\n",
       "    Instructor_ID           Name_y      Faculty                        Email  \n",
       "0           SHHID  Angela Thompson         Arts  angela.thompson@univer.sity  \n",
       "1           I3AH7  Jeffrey Collins          Law  jeffrey.collins@univer.sity  \n",
       "2           HOFLI       Lisa Scott     Medicine       lisa.scott@univer.sity  \n",
       "3           2K4JD     Henry Graves      Science     henry.graves@univer.sity  \n",
       "4           6C4MF       Mary Scott  Engineering       mary.scott@univer.sity  \n",
       "..            ...              ...          ...                          ...  \n",
       "195         8M3RA       Dana Lopez     Medicine       dana.lopez@univer.sity  \n",
       "196         82EU8       Megan Ruiz          Law       megan.ruiz@univer.sity  \n",
       "197         1R89R    Andrew Gaines     Medicine    andrew.gaines@univer.sity  \n",
       "198         HOFLI       Lisa Scott     Medicine       lisa.scott@univer.sity  \n",
       "199         YCJMK      Karen Hodge     Medicine      karen.hodge@univer.sity  \n",
       "\n",
       "[200 rows x 20 columns]"
      ]
     },
     "execution_count": 41,
     "metadata": {},
     "output_type": "execute_result"
    }
   ],
   "source": [
    "df"
   ]
  },
  {
   "cell_type": "markdown",
   "id": "f548dc10dbd87e7d",
   "metadata": {},
   "source": [
    "Якщо ви все зробили правильно, у вас мало вийти 200 записів. Давайте сконцетруємось на записах студента на імʼя `Gregory Martin` (або будь-якого іншого/іншої, який/яка вам до вподоби) та подивимось, які саме курси він взяв. Для цього вам знадобляться вже три датасети. \n"
   ]
  },
  {
   "cell_type": "code",
   "execution_count": null,
   "id": "a5a21dd39645b4d2",
   "metadata": {
    "ExecuteTime": {
     "end_time": "2024-05-28T16:27:17.657434Z",
     "start_time": "2024-05-28T16:27:17.636251Z"
    }
   },
   "outputs": [],
   "source": []
  },
  {
   "cell_type": "markdown",
   "id": "2d5479d9f4cd34af",
   "metadata": {},
   "source": [
    "І, ніби нам цього було мало, дізнаємось імейли інструкторів, які ведуть курси, на які Грегорі був записаний:"
   ]
  },
  {
   "cell_type": "code",
   "execution_count": null,
   "id": "8a19800b",
   "metadata": {},
   "outputs": [],
   "source": []
  },
  {
   "cell_type": "markdown",
   "id": "f82efb32",
   "metadata": {},
   "source": [
    "### Кінець підготовчої частини\n",
    "\n",
    "--------------\n",
    "\n",
    "### Початок спільної частини \n",
    "\n",
    "Чудово! \n",
    "\n",
    "До цього ми працювали з конкретним студентом, але тепер давайте подивимось на \"big picture\" і спробуємо проаналізувати дещо. \n",
    "\n",
    "Отож, наше наступне завдання: знайдіть кількість невідповідностей у таблицях students і enrollments. Під \"невідповідністю\" маємо на увазі наявність запису в одному датасеті, але відсутність в іншому. Тут є кілька способів це зробити, спробуйте хоча б два достатньо різних. \n",
    "\n",
    "І ось вам підказки, що можна використати в одному з способів:\n",
    "- параметри `how` та `indicator` у `pd.merge`\n",
    "- методи `value_counts()` та `query` у датафрейму \n",
    "\n",
    "\n",
    "Альтернативий спосіб натомість спробуйте зробити максимально прямолійнійним, так, якби ви не знали про наявлість `indicator`, `value_counts()`, `query` тощо \n"
   ]
  },
  {
   "cell_type": "code",
   "execution_count": null,
   "id": "efd66a45",
   "metadata": {},
   "outputs": [],
   "source": [
    "# Спосіб №1 "
   ]
  },
  {
   "cell_type": "code",
   "execution_count": null,
   "id": "8eedd06b",
   "metadata": {},
   "outputs": [],
   "source": [
    "# Спосіб №2\n"
   ]
  },
  {
   "cell_type": "markdown",
   "id": "3dadc19689415b2b",
   "metadata": {},
   "source": [
    "Щоб закінчити епопею з функцією `merge`, давайте спробуємо порахувати кількість різних **пар** колег з одного факультету. При цьому врахуйте, що \"я сам собі не колега\", а також кожну пару потрібно рахувати рівно один раз."
   ]
  },
  {
   "cell_type": "code",
   "execution_count": null,
   "id": "df92bb32833e4d6f",
   "metadata": {
    "ExecuteTime": {
     "end_time": "2024-05-28T16:34:39.435698Z",
     "start_time": "2024-05-28T16:34:39.423833Z"
    }
   },
   "outputs": [],
   "source": []
  },
  {
   "cell_type": "markdown",
   "id": "31a11cda7e4930ac",
   "metadata": {},
   "source": [
    "Має вийти 185, але важливо не \"скільки\", а \"як\" :) "
   ]
  },
  {
   "cell_type": "markdown",
   "id": "3eb06924431052bf",
   "metadata": {},
   "source": [
    "Тепер давайте спробуємо працювати з групуванням і агрегацією. Перш за все, давайте розглянемо групи по окремості.\n",
    "\n",
    "Для цього вам знадобиться метод `groupby`. Згрупуємо інструкторів за факультетом і виведемо кількість інструкторів для кожного з факультетів, використовуючи цикл: \n",
    "\n",
    "```python\n",
    "\n",
    "for faculty, members in ???\n",
    "    print(faculty, len(members))\n",
    "\n",
    "```\n",
    "(замість ??? потрібно написати правильний вираз) \n"
   ]
  },
  {
   "cell_type": "code",
   "execution_count": null,
   "id": "f1f8f36515937453",
   "metadata": {
    "ExecuteTime": {
     "end_time": "2024-05-28T16:39:14.055047Z",
     "start_time": "2024-05-28T16:39:14.046861Z"
    }
   },
   "outputs": [],
   "source": []
  },
  {
   "cell_type": "markdown",
   "id": "9e6ecc94f512d548",
   "metadata": {},
   "source": [
    "Ви також можете вивести список інструкторів замість їх кількості, якщо хочете :) "
   ]
  },
  {
   "cell_type": "code",
   "execution_count": null,
   "id": "d68e68aa3069239c",
   "metadata": {
    "ExecuteTime": {
     "end_time": "2024-05-28T16:41:11.395196Z",
     "start_time": "2024-05-28T16:41:11.379435Z"
    }
   },
   "outputs": [],
   "source": []
  },
  {
   "cell_type": "markdown",
   "id": "628268c602cad2a0",
   "metadata": {},
   "source": [
    "Тепер давайте спробуємо погрупувати студентів за факультетом і порахувати середню оцінку та середній вік по кожному з факультетів. Для цього в результата groupby треба виділити конкретний набір колонок - у нашому випадку `Age` та `GPA`. Звісно, що для підрахунку середнього вам підійде функція `mean()`"
   ]
  },
  {
   "cell_type": "markdown",
   "id": "2b7c3de2",
   "metadata": {},
   "source": []
  },
  {
   "cell_type": "markdown",
   "id": "fbb2a73302abd70e",
   "metadata": {},
   "source": [
    "Якщо ви все зробили правильно, у вас мав вийти якийсь датасет. Спробуйте подивитися, які у цього датасета колонки та який індекс."
   ]
  },
  {
   "cell_type": "code",
   "execution_count": null,
   "id": "33f92f68b825085",
   "metadata": {
    "ExecuteTime": {
     "end_time": "2024-05-28T16:48:19.755279Z",
     "start_time": "2024-05-28T16:48:19.746068Z"
    }
   },
   "outputs": [],
   "source": []
  },
  {
   "cell_type": "markdown",
   "id": "f5c3a4ae",
   "metadata": {},
   "source": [
    "Хм, середні значення то звісно добре, але іноді цікавить дещо інше. Спробуйте залишити середнє значення `GPA`, а для `Age` додати також обрахунок мінімального і максимального значення. "
   ]
  },
  {
   "cell_type": "code",
   "execution_count": null,
   "id": "d5c1b825",
   "metadata": {},
   "outputs": [],
   "source": []
  },
  {
   "cell_type": "markdown",
   "id": "613085c4307845a",
   "metadata": {},
   "source": [
    "Тепер спробуйте згрупувати не по одній колонці, а по кількох - наприклад, `Faculty` та `Age`. Так само перевірте назви колонок та індекс і подивіться, як це повʼязано з аргументом `groupby`."
   ]
  },
  {
   "cell_type": "code",
   "execution_count": null,
   "id": "2c9b9d16ce3aea8f",
   "metadata": {
    "ExecuteTime": {
     "end_time": "2024-05-28T16:56:04.929873Z",
     "start_time": "2024-05-28T16:56:04.918944Z"
    }
   },
   "outputs": [],
   "source": []
  },
  {
   "cell_type": "markdown",
   "id": "c20fa1e5c0121f23",
   "metadata": {},
   "source": [
    "Щож, сподіваюсь, ± зрозуміло, чому це працює саме так. "
   ]
  },
  {
   "cell_type": "code",
   "execution_count": null,
   "id": "3a843d02c5a7eb8b",
   "metadata": {
    "ExecuteTime": {
     "end_time": "2024-05-28T17:07:38.724925Z",
     "start_time": "2024-05-28T17:07:38.712825Z"
    }
   },
   "outputs": [],
   "source": []
  },
  {
   "cell_type": "markdown",
   "id": "12e57d50d2b69a4a",
   "metadata": {},
   "source": [
    "Рухаємось далі. Тут вже треба і `merge`, і `groupby`. Для кожного студента з GPA більшим за 3.3 знайдіть кількість курсів, на які студент заенролився і завалив (тобто здав на `D`). Результат посортуйте по кількості таких курсів. Подивимось, скільки відмінників не такі вже й відмінники 😈\n",
    "\n",
    "Тут у вас, здається, має вийти 10."
   ]
  },
  {
   "cell_type": "code",
   "execution_count": null,
   "id": "d3868907b0330932",
   "metadata": {
    "ExecuteTime": {
     "end_time": "2024-05-28T17:16:51.501511Z",
     "start_time": "2024-05-28T17:16:51.481589Z"
    }
   },
   "outputs": [],
   "source": []
  },
  {
   "cell_type": "markdown",
   "id": "4406d884b9399bef",
   "metadata": {},
   "source": [
    "Зверніть увагу, що студентів-відмінників має бути 29, а от завалені курси є лише у частини з них. Якщо у вас результат складається з менш ніж 29 записів, подумайте, як то виправити, щоб були присутні і студенти без \"D-шок\"."
   ]
  },
  {
   "cell_type": "markdown",
   "id": "3459ffd3",
   "metadata": {},
   "source": []
  },
  {
   "cell_type": "code",
   "execution_count": null,
   "id": "395b96ed",
   "metadata": {},
   "outputs": [],
   "source": []
  },
  {
   "cell_type": "markdown",
   "id": "0ded6437",
   "metadata": {},
   "source": [
    "Хм, а як загалом картина на факультетах? \n",
    "Спробуйте наступне:\n",
    "- для кожного факультету порахуйте частку оцінок `F`\n",
    "- для факультетів з більш ніж 20% F-ок виведіть:\n",
    "  - кількість виставлених оцінок загалом\n",
    "  - кількість F-ок\n",
    "  - частку F-ок\n",
    "  - кількість студентів, які проходили курси\n",
    "  - кількість студентів, які отримали F-ки\n",
    "\n",
    "Обовʼязково переконайтесь, що ви не рахуєте студентів двічі.\n",
    "\n",
    "В рамках цього завдання можете спробувати використати методи `assign` та `filter`, ну і вже знайомі вам `agg` та `query`. "
   ]
  },
  {
   "cell_type": "code",
   "execution_count": null,
   "id": "4add80b6",
   "metadata": {},
   "outputs": [],
   "source": []
  },
  {
   "cell_type": "markdown",
   "id": "129ba0686d52af9f",
   "metadata": {},
   "source": [
    "Нарешті, давайте збережемо дані. Візьміть датасет студентів і скористайтесь методом `to_csv`, щоб зберегти його у файл `other_students.csv`. Відкрийте файл і зверніть увагу на те, чи все \"окей\"."
   ]
  },
  {
   "cell_type": "code",
   "execution_count": null,
   "id": "ee366d3fb78ed2b1",
   "metadata": {
    "ExecuteTime": {
     "end_time": "2024-05-28T17:20:55.183830Z",
     "start_time": "2024-05-28T17:20:55.171786Z"
    }
   },
   "outputs": [],
   "source": []
  },
  {
   "cell_type": "markdown",
   "id": "23d0fa67da49a9eb",
   "metadata": {},
   "source": [
    "Імовірно, у вас буде \"зайва\" колонка. Щоб зрозуміти, що це конкретно за колонка, спробуйте також зберегти результат команди `students.groupby(['Faculty', 'Age'])[['Age', 'GPA']].mean()` у інший файл. "
   ]
  },
  {
   "cell_type": "code",
   "execution_count": null,
   "id": "a5d234287b4332d0",
   "metadata": {
    "ExecuteTime": {
     "end_time": "2024-05-28T17:22:18.254896Z",
     "start_time": "2024-05-28T17:22:18.241439Z"
    }
   },
   "outputs": [],
   "source": []
  },
  {
   "cell_type": "markdown",
   "id": "da0c02cfb429d220",
   "metadata": {},
   "source": [
    "На цьому етапі у вас має закрастися підозра, що ж це за колонка. Так-так, це була колонка-індекс. Щоб зберегти без неї, передайте у `to_csv` аргумент `index=False` "
   ]
  },
  {
   "cell_type": "code",
   "execution_count": null,
   "id": "c7efd3d5f8400827",
   "metadata": {
    "ExecuteTime": {
     "end_time": "2024-05-28T17:23:44.363722Z",
     "start_time": "2024-05-28T17:23:44.354949Z"
    }
   },
   "outputs": [],
   "source": []
  },
  {
   "cell_type": "markdown",
   "id": "b74b39b4",
   "metadata": {},
   "source": [
    "### Кінець спільної частини\n",
    "-----------------\n",
    "### Початок самостійної (домашньої) частини\n",
    "\n",
    "\n",
    "##### Завдання №1\n",
    "\n",
    "Для кожного інструктора розрахуйте:\n",
    "- Кількість курсів, які він/вона викладають\n",
    "- Загальну кількість кредитів відповідних курсів\n",
    "- Загальну кількість студентів у курсах, які веде викладач\n",
    "- Кількість унікальних студентів (тобто скільки різних облич бачить викладач на своїх парах)\n",
    "- Статистику по оцінках - як часто (у %) викладач ставить A, B, C, ..., F\n",
    "\n",
    "Відсортуйте результат за кількістю унікальних студентів. "
   ]
  },
  {
   "cell_type": "code",
   "execution_count": null,
   "id": "067e14d1",
   "metadata": {},
   "outputs": [],
   "source": []
  },
  {
   "cell_type": "markdown",
   "id": "dbe2c36a",
   "metadata": {},
   "source": [
    "Завдання №2\n",
    "\n",
    "Для кожного студента порахуйте:\n",
    "- Сумарну кількість кредитів \n",
    "- Кількість днів навчання (до сьогоднішньої дати) [1]\n",
    "- Середню успішність\n",
    "- Середню успішність, якщо рахувати, що A - 100, B - 90, C - 75, D - 60, F - 0  \n",
    "- Кількість непрофільних предметів (тобто предметів, які студент взяв з факультету, відмінного від свого)\n",
    "\n",
    "\n",
    "\n",
    "[1] Зверніть увагу, що ми з вами не працювали раніше з датами. Пропонується спробувати розібратися самостійно - там нічого складного! Вам знадобиться [to_datetime](https://pandas.pydata.org/docs/reference/api/pandas.to_datetime.html), [Series.dt](https://pandas.pydata.org/docs/reference/api/pandas.Series.dt.html#pandas-series-dt), а також стандартний пайтонівський модуль datetime (`from datetime import date` -> `date.today()`).\n"
   ]
  },
  {
   "cell_type": "code",
   "execution_count": null,
   "id": "603c3a91",
   "metadata": {},
   "outputs": [],
   "source": []
  }
 ],
 "metadata": {
  "kernelspec": {
   "display_name": "Python 3",
   "language": "python",
   "name": "python3"
  },
  "language_info": {
   "codemirror_mode": {
    "name": "ipython",
    "version": 3
   },
   "file_extension": ".py",
   "mimetype": "text/x-python",
   "name": "python",
   "nbconvert_exporter": "python",
   "pygments_lexer": "ipython3",
   "version": "3.13.3"
  }
 },
 "nbformat": 4,
 "nbformat_minor": 5
}
