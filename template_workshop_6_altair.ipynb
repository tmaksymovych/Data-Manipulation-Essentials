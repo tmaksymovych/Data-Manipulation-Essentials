{
 "cells": [
  {
   "cell_type": "markdown",
   "id": "5cabe512-6003-4adc-96f0-fe7e415e792f",
   "metadata": {},
   "source": [
    "# Воркшоп #6. Бібліотека Altair\n",
    "\n",
    "### ПОЧАТОК ПІДГОТОВЧОЇ ЧАСТИНИ\n",
    "\n"
   ]
  },
  {
   "cell_type": "markdown",
   "id": "0238b2d0-bc56-453d-a1e6-3bb50ff52d60",
   "metadata": {},
   "source": [
    "Цей воркшоп виконує..."
   ]
  },
  {
   "cell_type": "raw",
   "id": "202d72cc-12b6-4c6a-ae23-96bc94236df6",
   "metadata": {},
   "source": []
  },
  {
   "cell_type": "markdown",
   "id": "dc07333e-7bea-43a7-9f02-4a0ad8507719",
   "metadata": {},
   "source": [
    "Перш за все, встановимо саму бібліотеку (а заодно ще `vega_datasets`):"
   ]
  },
  {
   "cell_type": "code",
   "execution_count": 1,
   "id": "9aae1589-3f36-450d-bd77-d71654b961ac",
   "metadata": {},
   "outputs": [
    {
     "name": "stdout",
     "output_type": "stream",
     "text": [
      "Collecting altair\n",
      "  Downloading altair-5.5.0-py3-none-any.whl.metadata (11 kB)\n",
      "Collecting vega_datasets\n",
      "  Downloading vega_datasets-0.9.0-py3-none-any.whl.metadata (5.5 kB)\n",
      "Requirement already satisfied: jinja2 in c:\\users\\msi_pc\\appdata\\local\\programs\\python\\python313\\lib\\site-packages (from altair) (3.1.6)\n",
      "Requirement already satisfied: jsonschema>=3.0 in c:\\users\\msi_pc\\appdata\\local\\programs\\python\\python313\\lib\\site-packages (from altair) (4.24.0)\n",
      "Collecting narwhals>=1.14.2 (from altair)\n",
      "  Downloading narwhals-1.43.1-py3-none-any.whl.metadata (11 kB)\n",
      "Requirement already satisfied: packaging in c:\\users\\msi_pc\\appdata\\local\\programs\\python\\python313\\lib\\site-packages (from altair) (25.0)\n",
      "Requirement already satisfied: typing-extensions>=4.10.0 in c:\\users\\msi_pc\\appdata\\local\\programs\\python\\python313\\lib\\site-packages (from altair) (4.13.2)\n",
      "Requirement already satisfied: pandas in c:\\users\\msi_pc\\appdata\\local\\programs\\python\\python313\\lib\\site-packages (from vega_datasets) (2.2.3)\n",
      "Requirement already satisfied: attrs>=22.2.0 in c:\\users\\msi_pc\\appdata\\local\\programs\\python\\python313\\lib\\site-packages (from jsonschema>=3.0->altair) (25.3.0)\n",
      "Requirement already satisfied: jsonschema-specifications>=2023.03.6 in c:\\users\\msi_pc\\appdata\\local\\programs\\python\\python313\\lib\\site-packages (from jsonschema>=3.0->altair) (2025.4.1)\n",
      "Requirement already satisfied: referencing>=0.28.4 in c:\\users\\msi_pc\\appdata\\local\\programs\\python\\python313\\lib\\site-packages (from jsonschema>=3.0->altair) (0.36.2)\n",
      "Requirement already satisfied: rpds-py>=0.7.1 in c:\\users\\msi_pc\\appdata\\local\\programs\\python\\python313\\lib\\site-packages (from jsonschema>=3.0->altair) (0.25.1)\n",
      "Requirement already satisfied: MarkupSafe>=2.0 in c:\\users\\msi_pc\\appdata\\local\\programs\\python\\python313\\lib\\site-packages (from jinja2->altair) (3.0.2)\n",
      "Requirement already satisfied: numpy>=1.26.0 in c:\\users\\msi_pc\\appdata\\local\\programs\\python\\python313\\lib\\site-packages (from pandas->vega_datasets) (2.2.6)\n",
      "Requirement already satisfied: python-dateutil>=2.8.2 in c:\\users\\msi_pc\\appdata\\local\\programs\\python\\python313\\lib\\site-packages (from pandas->vega_datasets) (2.9.0.post0)\n",
      "Requirement already satisfied: pytz>=2020.1 in c:\\users\\msi_pc\\appdata\\local\\programs\\python\\python313\\lib\\site-packages (from pandas->vega_datasets) (2025.2)\n",
      "Requirement already satisfied: tzdata>=2022.7 in c:\\users\\msi_pc\\appdata\\local\\programs\\python\\python313\\lib\\site-packages (from pandas->vega_datasets) (2025.2)\n",
      "Requirement already satisfied: six>=1.5 in c:\\users\\msi_pc\\appdata\\local\\programs\\python\\python313\\lib\\site-packages (from python-dateutil>=2.8.2->pandas->vega_datasets) (1.17.0)\n",
      "Downloading altair-5.5.0-py3-none-any.whl (731 kB)\n",
      "   ---------------------------------------- 0.0/731.2 kB ? eta -:--:--\n",
      "   -------------- ------------------------- 262.1/731.2 kB ? eta -:--:--\n",
      "   ---------------------------------------- 731.2/731.2 kB 5.0 MB/s eta 0:00:00\n",
      "Downloading vega_datasets-0.9.0-py3-none-any.whl (210 kB)\n",
      "Downloading narwhals-1.43.1-py3-none-any.whl (362 kB)\n",
      "Installing collected packages: narwhals, vega_datasets, altair\n",
      "Successfully installed altair-5.5.0 narwhals-1.43.1 vega_datasets-0.9.0\n",
      "Note: you may need to restart the kernel to use updated packages.\n"
     ]
    },
    {
     "name": "stderr",
     "output_type": "stream",
     "text": [
      "\n",
      "[notice] A new release of pip is available: 25.0.1 -> 25.1.1\n",
      "[notice] To update, run: python.exe -m pip install --upgrade pip\n"
     ]
    }
   ],
   "source": [
    "%pip install altair vega_datasets"
   ]
  },
  {
   "cell_type": "markdown",
   "id": "94cc67a6-e359-419f-9602-40ef54295780",
   "metadata": {},
   "source": [
    "### КІНЕЦЬ ПІДГОТОВЧОЇ ЧАСТИНИ\n",
    "-----------------------------\n",
    "### ПОЧАТОК СПІЛЬНОЇ ЧАСТИНИ\n",
    "\n",
    "Тепер імпортуємо усе необхідне:\n"
   ]
  },
  {
   "cell_type": "code",
   "execution_count": 2,
   "id": "be1cefe5-40b7-4eaa-8d68-a641b80a952c",
   "metadata": {},
   "outputs": [],
   "source": [
    "import altair as alt\n",
    "import pandas as pd\n",
    "import numpy as np\n",
    "from vega_datasets import local_data"
   ]
  },
  {
   "cell_type": "markdown",
   "id": "3bb99768-8ced-4001-a88b-24f0f1e5ab13",
   "metadata": {},
   "source": [
    "Тепер подивіться, що з себе представляє датасет `local_data.cars()`"
   ]
  },
  {
   "cell_type": "code",
   "execution_count": null,
   "id": "377853cf-d46b-4021-9716-d5089dd7a8bb",
   "metadata": {},
   "outputs": [],
   "source": []
  },
  {
   "cell_type": "markdown",
   "id": "7c8d029f-ebf0-4b18-8fee-e28eb05bdeaf",
   "metadata": {},
   "source": [
    "Давайте спробуємо намалювати найпростіший `scatter` графік. Нехай за x-ом буде `Acceleration`, а за y-ом - `Horsepower`.\n",
    "\n",
    "Як же нам це зробити?\n",
    "Перш за все, необхідно створити обʼєкт-графік, з яким ми будемо працювати. Наприклад, `alt.Chart(cars)`. Після цього необхідно задати тип графіку (так званий `mark`). Типово це робиться викликом методу - наприклад, `mark_point()`. Цей метод повертає новий обʼєкт типу `Chart`, з яким ми і будемо працювати. Нарешті, метод `encode` допоможе нам з безпосереднім візуальним _кодуванням_ інформації.\n",
    "\n",
    "Спробуйте переглянути документацію до цього метода, щоб зрозуміти, що до чого. \n",
    "\n",
    "Підказка №1: оператор `?` не дуже працює, якщо викликати його на складному виразі, тому тут краще або зберегти обʼєкт окремо, або викликати функцію `help()`).\n",
    "\n",
    "Підказка №2: аргументів у функції багато, тому варто прокрутити у самий низ :) \n"
   ]
  },
  {
   "cell_type": "code",
   "execution_count": null,
   "id": "472771bd-3be7-4000-a7e1-c5a5ae55be7e",
   "metadata": {},
   "outputs": [],
   "source": []
  },
  {
   "cell_type": "markdown",
   "id": "997bee74-977c-440b-b194-87f55b961cd3",
   "metadata": {},
   "source": [
    "Тепер, коли ви вже глянули на документацію, можна власне візуалізувати те, що ми хотіли. \n",
    "\n",
    "Нагадаю: \n",
    "\n",
    "> Давайте спробуємо намалювати найпростіший `scatter` графік. Нехай за x-ом буде `Acceleration`, а за y-ом - `Horsepower`."
   ]
  },
  {
   "cell_type": "code",
   "execution_count": null,
   "id": "68fba6aa-22ea-476f-b16e-8ebb17fee913",
   "metadata": {},
   "outputs": [],
   "source": []
  },
  {
   "cell_type": "markdown",
   "id": "8c637c19-88f6-4d58-8d22-2df8b1b933be",
   "metadata": {},
   "source": [
    "Нарешті, спробуємо додатково закодувати інформацію про походження одночасно у кольорі та формі. \n",
    "\n",
    "А якщо хочете експериментів - спробуйте закодувати у розмірі вагу і побачите, наскільки це вдала чи невдала ідея :) \n"
   ]
  },
  {
   "cell_type": "code",
   "execution_count": null,
   "id": "de460d3a-386a-4997-bd9c-1560103957bc",
   "metadata": {},
   "outputs": [],
   "source": []
  },
  {
   "cell_type": "markdown",
   "id": "82032e4e-2840-4ddc-8313-f31497122097",
   "metadata": {},
   "source": [
    "Ще один штрих - можна зробити наш графік інтерактивним. Ви вже могли побачити, що у графіка у верхньому правому куті є \"кебаб-меню\" з опціями збереження та подібним. Спробуйте тепер додати виклик метода `interactive()` і погляньте, що змінилось.\n",
    "\n",
    "Заодно можете додати параметр `tooltip` до `encode()`."
   ]
  },
  {
   "cell_type": "code",
   "execution_count": null,
   "id": "a46cac80-297f-4686-9da5-d55218cb75c8",
   "metadata": {},
   "outputs": [],
   "source": []
  },
  {
   "cell_type": "markdown",
   "id": "ab99aed0-146e-41dd-8bd4-5926df41cf6a",
   "metadata": {},
   "source": [
    "Тепер трохи займемося оформленням графіка. \n",
    "Altair пропонує використовувати `alt.X` та `alt.Y`, щоб управляти кожною з часток даних окремо. Наприклад, спробуйте змінити назву вісі `Acceleration` на `Acceleration (0-60 mph)` та інвертуйте шкалу за допомогою метода `scale`, а для вісі `Horsepower` за допомогою того ж метода `scale` зробіть межі від 40 до 250 (вам знадобляться аргументи з префіксом `domain`).\n"
   ]
  },
  {
   "cell_type": "code",
   "execution_count": null,
   "id": "37bbb6bc-f034-41b0-9ef9-45233d12fda5",
   "metadata": {},
   "outputs": [],
   "source": []
  },
  {
   "cell_type": "markdown",
   "id": "6aeca26d-0cd8-4014-9e4f-fcff9bd315a6",
   "metadata": {},
   "source": [
    "Тепер спробуйте закодувати у форму кількість циліндрів. Має вийти помилка :) "
   ]
  },
  {
   "cell_type": "code",
   "execution_count": null,
   "id": "bb5d5f4b-5a9a-44d6-9298-fee3ddf4900f",
   "metadata": {},
   "outputs": [],
   "source": []
  },
  {
   "cell_type": "markdown",
   "id": "7f4fb2d8-a7c4-47d0-be31-d83e62261a09",
   "metadata": {},
   "source": [
    "Що ж, виявляється, Altair не дуже хоче працювати з числами для задання форми. Що ж робити?\n",
    "\n",
    "В принципі, можна було б і поміняти датасет, але Altair вміє виконувати накази за вас. Передайте у якості параметра `shape` не просто `Cylinders`, а `Clylinders:N`."
   ]
  },
  {
   "cell_type": "code",
   "execution_count": null,
   "id": "3652c87c-3719-40bb-91dc-5b6b2a341dd7",
   "metadata": {},
   "outputs": [],
   "source": []
  },
  {
   "cell_type": "markdown",
   "id": "8b49dafa-b59f-4dd0-9e19-8e451edbe1e4",
   "metadata": {},
   "source": [
    "Чудово!\n",
    "Можете \n",
    "трохи погратися з різними параметрами. \"Типів даних\" у Altair є всього пʼять, ось вони:\n",
    "\n",
    "\n",
    "Data Type | Shorthand Code | Description\n",
    "|---|---|---|\n",
    "quantitative | Q | a continuous real-valued quantity\n",
    "ordinal | O | a discrete ordered quantity \n",
    "nominal | N | a discrete unordered category\n",
    "temporal | T | a time or date value\n",
    "geojson | G | a geographic shape\n",
    "\n",
    "Так що не обмежуйте себе у фантазії :) "
   ]
  },
  {
   "cell_type": "code",
   "execution_count": null,
   "id": "85680112-778b-4736-851a-eb716c3d8d11",
   "metadata": {},
   "outputs": [],
   "source": []
  },
  {
   "cell_type": "markdown",
   "id": "602af2b2-ce81-4123-a42e-200c40adbc17",
   "metadata": {},
   "source": [
    "Тепер час познайомитися з іншою вбудованою здатністю Altair - агрегувати дані.\n",
    "\n",
    "Спробуйте створити bar chart, який демонструє кількість марок авто в залежності від кількості циліндрів. Звісно, що додайте розфарбовку в залежності від походження. Підказка: використайте `count()` у якості \"назви колонки\".\n",
    "\n",
    "\n",
    "Зверніть увагу, що у датасеті кількість циліндрів - quantitative величина, нам же у даному випадку ця величина потрібна як ordinal. "
   ]
  },
  {
   "cell_type": "code",
   "execution_count": null,
   "id": "f755304d-258b-4a0a-9bd2-efec88d4e4c7",
   "metadata": {},
   "outputs": [],
   "source": []
  },
  {
   "cell_type": "markdown",
   "id": "98ea2bc7-f64b-4261-8ae0-cc07ab0b1db9",
   "metadata": {},
   "source": [
    "Ще один варіант використання `count()` - у парі з викликом `bin()` - ви таким чином отримаєте гістограму.\n",
    "\n",
    "Спробуйте зробити гістограму розподілу авто в залежності від потужності :) "
   ]
  },
  {
   "cell_type": "code",
   "execution_count": null,
   "id": "f7cb5072-b8b5-4bf1-a5fc-66d0fec58440",
   "metadata": {},
   "outputs": [],
   "source": []
  },
  {
   "cell_type": "markdown",
   "id": "fc8315eb-9168-4a07-be02-cc83820f6671",
   "metadata": {},
   "source": [
    "Чудово! \n",
    "\n",
    "Але `count()` - лише одна з багатьох агрегатних функцій, доступних в Altair. Спробуйте використати функцію `mean` або `median` замість `count()`, щоб зробити порівняльний графік середньої/медіанної потужності в залежності від кількості циліндрів."
   ]
  },
  {
   "cell_type": "code",
   "execution_count": null,
   "id": "f3eaecc5-a88d-4e1f-8b64-63cb44259c34",
   "metadata": {},
   "outputs": [],
   "source": []
  },
  {
   "cell_type": "markdown",
   "id": "a4625535-04a2-4dfc-9ae9-942f294c2ee8",
   "metadata": {},
   "source": [
    "Що ж, час навчитися комбінувати графіки! Створіть два графіки, збережіть їх у різні змінні та використайте `alt.concat`/`alt.vconcat`, щоб отримати два графіки - один з медіанними показниками потужності, а інший з середніми."
   ]
  },
  {
   "cell_type": "code",
   "execution_count": null,
   "id": "5a6600ad-6854-4158-bcbf-495d2f7f2a3b",
   "metadata": {},
   "outputs": [],
   "source": []
  },
  {
   "cell_type": "markdown",
   "id": "c49cb4a2-4153-4a62-abcd-e9be1816ec20",
   "metadata": {},
   "source": [
    "Ви навіть можете сконкатенувати вже сконкатеновані графіки, а також сконкатенувати одразу кілька графіків одним викликом функції.\n",
    "\n",
    "Просто спробуйте:"
   ]
  },
  {
   "cell_type": "code",
   "execution_count": null,
   "id": "53a7080e-33f2-49c8-80f9-152ccb9dce90",
   "metadata": {},
   "outputs": [],
   "source": []
  },
  {
   "cell_type": "markdown",
   "id": "591e5389-2b15-4c7b-9c90-82c63cbf6dd3",
   "metadata": {},
   "source": [
    "### КІНЕЦЬ СПІЛЬНОЇ ЧАСТИНИ\n",
    "\n",
    "-----------------------------\n",
    "### ПОЧАТОК ДОМАШНЬОЇ ЧАСТИНИ\n",
    "\n",
    "У якості домашньої частини потрібно зробити наступне:\n",
    "- Обрати будь-який датасет або датасети, які вам подобаються (як варіант, можете розглянути датасети з `vega_datasets`, окрім `cars`);\n",
    "- Зробити щонайменше два графіки **різних типів**, які розповідають якусь історію чи підсвічують важливі дані\n",
    "- Налаштуйте заголовки, підказки, кольори тощо так, щоб графіки мали певну \"самостійність\" і могли читатися без попереднього контексту   "
   ]
  },
  {
   "cell_type": "code",
   "execution_count": null,
   "id": "f3ea89d5",
   "metadata": {},
   "outputs": [],
   "source": []
  }
 ],
 "metadata": {
  "kernelspec": {
   "display_name": "Python 3",
   "language": "python",
   "name": "python3"
  },
  "language_info": {
   "codemirror_mode": {
    "name": "ipython",
    "version": 3
   },
   "file_extension": ".py",
   "mimetype": "text/x-python",
   "name": "python",
   "nbconvert_exporter": "python",
   "pygments_lexer": "ipython3",
   "version": "3.13.3"
  }
 },
 "nbformat": 4,
 "nbformat_minor": 5
}
